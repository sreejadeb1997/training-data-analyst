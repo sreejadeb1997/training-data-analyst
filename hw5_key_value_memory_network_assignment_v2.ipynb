{
  "cells": [
    {
      "cell_type": "markdown",
      "metadata": {
        "id": "view-in-github",
        "colab_type": "text"
      },
      "source": [
        "<a href=\"https://colab.research.google.com/github/sreejadeb1997/training-data-analyst/blob/master/hw5_key_value_memory_network_assignment_v2.ipynb\" target=\"_parent\"><img src=\"https://colab.research.google.com/assets/colab-badge.svg\" alt=\"Open In Colab\"/></a>"
      ]
    },
    {
      "cell_type": "markdown",
      "source": [
        "#Preamble\n",
        "\n",
        "This mini-project involves working through all the steps of a problem, whereas prior assignments asked you to just implement core functions. We will give you a dataset, but you will also have the opportunity to manipulate the data in ways that you find beneficial to the overall project and to explain why and how those manipulations mattered. This will be in addition to building the model from scratch, developing the training loop, and implementing testing. The code will be accompanied by a report written into the notebook.\n",
        "\n",
        "This project will have you working with attention mechanism, in a new type of system for question-answering. This will provide you with experience working with attention mechanisms while not directly working with transformers.\n",
        "\n",
        "This assignment is not autograded. You can modify any code cells as long as you achieve the requirements of each graded component."
      ],
      "metadata": {
        "id": "3M1CFw-VT5vI"
      }
    },
    {
      "cell_type": "markdown",
      "metadata": {
        "id": "yhZzhjGaTj9P"
      },
      "source": [
        "# Introduction\n",
        "\n",
        "Memory networks learn to access external memory stores (a database or, in the case of this assignment, a dictionary). Key-Value Memory Networks specifically assume that the external memory store is organized as a dictionary with keys and values. In theory memory networks are useful when one wants a neural network to be able to know a lot of information but we don't want to try to encode that information directly into the parameters of the network. This means information can be changed in the external memory database without retraining the neural network.\n",
        "\n",
        "Given a question, e.g., \"Where was Alexander Hamilton born?\", a key-value memory network learns an embedding such that the question has a high cosine similarity to a particular key in the external dictionary. Because there are many keys that need to be matched against, key-value memory networks implement an attention-scoring mechanism to select a key. Because attention is a probabilistic score, the key-value memory network retrieves a sum of embeddings weighted according to the attention score. This weighted embedding is then compared to values using a second attention-scoring mechanism. The value with the highest cosine similarity can then be retrieved and returned as the answer.\n",
        "\n",
        "Memory networks were an important part of the evolution of question-answering systems that have been eclipsed by transformers. However, the attention mechanism in a key-value memory network is very similar to the self-attention inside a transformer, so implementing a key-value memory network is a really great way to experiment and learn about self-attention without the added complexity of transformers.\n",
        "\n",
        "Key-value memory networks are also closely related to retieval-based generation networks, except we will be retrieving facts from a dictionary instead of via the internet. However, the embedding of retrieved data will be similar.\n",
        "\n",
        "Key-value memory networks are described in this [paper](https://arxiv.org/abs/1606.03126). It is recommended that you read the paper, but we will also walk through the steps you will need to complete."
      ]
    },
    {
      "cell_type": "markdown",
      "metadata": {
        "id": "XLQP14bxNXDx"
      },
      "source": [
        "# Some imports\n",
        "\n"
      ]
    },
    {
      "cell_type": "markdown",
      "source": [
        "You may add imports as necessary."
      ],
      "metadata": {
        "id": "FAe6-NtARNjW"
      }
    },
    {
      "cell_type": "code",
      "execution_count": 1,
      "metadata": {
        "id": "JfnqkHKkITC3"
      },
      "outputs": [],
      "source": [
        "import torch\n",
        "import torch.nn as nn\n",
        "from torch import optim\n",
        "import torch.nn.functional as F\n",
        "import re\n",
        "import os\n",
        "import json\n",
        "import random\n",
        "import numpy as np\n",
        "import pickle\n",
        "from tqdm import tqdm\n",
        "import nltk\n",
        "from nltk.corpus import stopwords\n",
        "import matplotlib.pyplot as plt"
      ]
    },
    {
      "cell_type": "code",
      "execution_count": 2,
      "metadata": {
        "id": "AviW7dfn6pUi",
        "colab": {
          "base_uri": "https://localhost:8080/",
          "height": 0
        },
        "outputId": "0cf7f3ed-c162-4772-cd1c-2654180b8d7d"
      },
      "outputs": [
        {
          "output_type": "execute_result",
          "data": {
            "text/plain": [
              "'cpu'"
            ],
            "application/vnd.google.colaboratory.intrinsic+json": {
              "type": "string"
            }
          },
          "metadata": {},
          "execution_count": 2
        }
      ],
      "source": [
        "device = 'cuda' if torch.cuda.is_available() else 'cpu'\n",
        "device"
      ]
    },
    {
      "cell_type": "markdown",
      "source": [
        "Unidecode is useful for getting rid of issues that arise from unicode. This should not be used if we care about unicode, but for the purposes of an instructional exercise, it eliminates a lot of edge cases that come up with unicode."
      ],
      "metadata": {
        "id": "fQM96JBsVHwF"
      }
    },
    {
      "cell_type": "code",
      "execution_count": 3,
      "metadata": {
        "id": "EYuVdhWfAcGQ",
        "colab": {
          "base_uri": "https://localhost:8080/"
        },
        "outputId": "b89b8412-0511-4e5f-e5d7-ef38a0a5e86c"
      },
      "outputs": [
        {
          "output_type": "stream",
          "name": "stdout",
          "text": [
            "Collecting unidecode\n",
            "  Downloading Unidecode-1.3.8-py3-none-any.whl.metadata (13 kB)\n",
            "Downloading Unidecode-1.3.8-py3-none-any.whl (235 kB)\n",
            "\u001b[2K   \u001b[90m━━━━━━━━━━━━━━━━━━━━━━━━━━━━━━━━━━━━━━━━\u001b[0m \u001b[32m235.5/235.5 kB\u001b[0m \u001b[31m4.2 MB/s\u001b[0m eta \u001b[36m0:00:00\u001b[0m\n",
            "\u001b[?25hInstalling collected packages: unidecode\n",
            "Successfully installed unidecode-1.3.8\n"
          ]
        }
      ],
      "source": [
        "!pip install unidecode"
      ]
    },
    {
      "cell_type": "code",
      "execution_count": 4,
      "metadata": {
        "id": "3E_fVmV2_8ub"
      },
      "outputs": [],
      "source": [
        "import unidecode"
      ]
    },
    {
      "cell_type": "markdown",
      "metadata": {
        "id": "p_bDmt5iSD_j"
      },
      "source": [
        "If you need to have a reduced vocabulary, you can create an unknown \"unk\" token and add it to the vocabulary. Make sure the token index in the vocabulary and `UNK_ID` match."
      ]
    },
    {
      "cell_type": "code",
      "execution_count": 5,
      "metadata": {
        "id": "DDHhoxzyAByu"
      },
      "outputs": [],
      "source": [
        "UNK = 'unk'\n",
        "UNK_ID = '0'"
      ]
    },
    {
      "cell_type": "markdown",
      "metadata": {
        "id": "Sl6J8BwVpHCw"
      },
      "source": [
        "# Some utilities"
      ]
    },
    {
      "cell_type": "markdown",
      "source": [
        "You may edit these as necessary."
      ],
      "metadata": {
        "id": "4LVVnmlNRKTp"
      }
    },
    {
      "cell_type": "markdown",
      "metadata": {
        "id": "4KF3VeFoSenc"
      },
      "source": [
        "Stem words"
      ]
    },
    {
      "cell_type": "code",
      "execution_count": 6,
      "metadata": {
        "id": "CPwG_8VrNUop"
      },
      "outputs": [],
      "source": [
        "# Stemming the text\n",
        "def simple_stemmer(text):\n",
        "    ps=nltk.porter.PorterStemmer()\n",
        "    text= [ps.stem(word) for word in text]\n",
        "    return text"
      ]
    },
    {
      "cell_type": "markdown",
      "metadata": {
        "id": "mDg9vUiDShG-"
      },
      "source": [
        "Simple tokenizer that only keeps letters and numbers."
      ]
    },
    {
      "cell_type": "code",
      "execution_count": 7,
      "metadata": {
        "id": "eEofSDrQ9fg_"
      },
      "outputs": [],
      "source": [
        "def tokenize(line):\n",
        "    line = re.sub(r'[^a-zA-Z0-9]', ' ', unidecode.unidecode(line)) # remove punctuation\n",
        "    line = line.lower().split()  # lower case\n",
        "    return line\n",
        "\n",
        "    #Tokenize string to convert to list of words, then give to stemming function"
      ]
    },
    {
      "cell_type": "markdown",
      "metadata": {
        "id": "IH2QW9FjSrJh"
      },
      "source": [
        "A standard vocabulary object class"
      ]
    },
    {
      "cell_type": "code",
      "execution_count": 8,
      "metadata": {
        "id": "25siAXsXOJj9"
      },
      "outputs": [],
      "source": [
        "class Vocab:\n",
        "    def __init__(self, name = 'vocab'):\n",
        "        self.name = name\n",
        "        self._word2index = {}\n",
        "        self._word2count = {}\n",
        "        self._index2word = {}\n",
        "        self._n_words = 0\n",
        "\n",
        "    def get_words(self):\n",
        "      return list(self._word2count.keys())\n",
        "\n",
        "    def num_words(self):\n",
        "      return self._n_words\n",
        "\n",
        "    def word2index(self, word):\n",
        "      return self._word2index[word]\n",
        "\n",
        "    def index2word(self, word):\n",
        "      return self._index2word[word]\n",
        "\n",
        "    def word2count(self, word):\n",
        "      return self._word2count[word]\n",
        "\n",
        "    def add_sentence(self, sentence):\n",
        "        for word in tokenize(sentence):\n",
        "            self.add_word(word)\n",
        "\n",
        "    def add_word(self, word):\n",
        "        if word not in self._word2index:\n",
        "            self._word2index[word] = self._n_words\n",
        "            self._word2count[word] = 1\n",
        "            self._index2word[self._n_words] = word\n",
        "            self._n_words += 1\n",
        "        else:\n",
        "            self._word2count[word] += 1"
      ]
    },
    {
      "cell_type": "markdown",
      "metadata": {
        "id": "esAT3lG1S5cV"
      },
      "source": [
        "Make a bag of words frmo a sentence, given a vocabulary. Can return a bag of word counts or a a bag of word presences."
      ]
    },
    {
      "cell_type": "code",
      "execution_count": 9,
      "metadata": {
        "id": "oKJP2y8g-TFE"
      },
      "outputs": [],
      "source": [
        "#revamped the multihot encoding function to return float instead of boolean T/F for encoding\n",
        "def multihot(s, vocab, preserve_counts = False):\n",
        "  tokens = np.array([vocab.word2index(t) for t in tokenize(s)])\n",
        "  mhot = np.zeros((tokens.size, vocab.num_words()))\n",
        "  mhot[np.arange(tokens.size), tokens] = 1\n",
        "  if preserve_counts:\n",
        "    return (mhot.sum(0)).astype(np.float32)\n",
        "    # return torch.tensor(mhot.sum(0))\n",
        "  else:\n",
        "    return (mhot.sum(0) >= 1).astype(np.float32)\n",
        "    # return torch.tensor(mhot.sum(0) >= 1)\n",
        "\n",
        "# mhot=multihot(\"alexander hamilton\", VOCAB)\n",
        "# print(mhot)\n",
        "# indices = np.nonzero(mhot == 1)\n",
        "# print(indices)"
      ]
    },
    {
      "cell_type": "markdown",
      "metadata": {
        "id": "4w8BflMUTLW_"
      },
      "source": [
        "If you have a reduced vocabulary, use this to replace out-of-vocab words. If you use this, you may want to merge it with `multihot` above to avoid tokenizing twice."
      ]
    },
    {
      "cell_type": "code",
      "execution_count": 10,
      "metadata": {
        "id": "LfvAfjEl7Z6j"
      },
      "outputs": [],
      "source": [
        "def unkit(s, vocab):\n",
        "  return ' '.join(list(map(lambda x: UNK if x not in vocab._word2index else x, tokenize(s))))"
      ]
    },
    {
      "cell_type": "markdown",
      "metadata": {
        "id": "YHZm-bAanrrf"
      },
      "source": [
        "# Part A: Download and Process Data (0 points)"
      ]
    },
    {
      "cell_type": "markdown",
      "metadata": {
        "id": "u-L61V7tVPok"
      },
      "source": [
        "This dataset contains the information in tables that are commonly used in Wikipedia biography pages. Each person has different rows of information pertaining to their notable accomplishments and details about their life. There are a large number of types of information that can appear as rows in the biography tables, however they are relatively uniform. We call the keys of the rows \"relations\".\n",
        "\n",
        "For example [Alexander Hamilton](https://en.wikipedia.org/wiki/Alexander_Hamilton) has information about the President he worked for as Secretary of State, birth date, date of death, parents' names, etc.\n",
        "\n",
        "The code below will download the dataset and process it to create two things:\n",
        "- `DB`: a hash table that map titles of biography wikipedia articles to table information. The table information is represented as a nested hash table containing relations as keys, and associated values. For example, `DB['alexander hamilton'] = {'party': 'federalist',\n",
        " 'spouse': 'elizabeth schuyler', ...}`\n",
        "- `VOCAB`: A vocabulary object that maps words to tokens and vice versa."
      ]
    },
    {
      "cell_type": "code",
      "execution_count": null,
      "metadata": {
        "id": "PYzcdAR2ntvm",
        "colab": {
          "base_uri": "https://localhost:8080/"
        },
        "outputId": "15261e69-e0c6-4333-887b-dc8def5755d8"
      },
      "outputs": [
        {
          "output_type": "stream",
          "name": "stdout",
          "text": [
            "Cloning into 'wikipedia-biography-dataset'...\n",
            "remote: Enumerating objects: 93, done.\u001b[K\n",
            "remote: Total 93 (delta 0), reused 0 (delta 0), pack-reused 93 (from 1)\u001b[K\n",
            "Receiving objects: 100% (93/93), 338.68 MiB | 25.10 MiB/s, done.\n",
            "Resolving deltas: 100% (43/43), done.\n",
            "Updating files: 100% (19/19), done.\n"
          ]
        }
      ],
      "source": [
        "!git clone https://github.com/rlebret/wikipedia-biography-dataset.git"
      ]
    },
    {
      "cell_type": "code",
      "execution_count": null,
      "metadata": {
        "id": "RZEHbtftn17L",
        "colab": {
          "base_uri": "https://localhost:8080/"
        },
        "outputId": "06c93168-e073-437d-d9e2-cc42fb3bbbd4"
      },
      "outputs": [
        {
          "output_type": "stream",
          "name": "stdout",
          "text": [
            "Archive:  tmp.zip\n",
            "   creating: wikipedia-biography-dataset/test/\n",
            "  inflating: wikipedia-biography-dataset/test/test.box  \n",
            "  inflating: wikipedia-biography-dataset/test/test.id  \n",
            "  inflating: wikipedia-biography-dataset/test/test.nb  \n",
            "  inflating: wikipedia-biography-dataset/test/test.sent  \n",
            "  inflating: wikipedia-biography-dataset/test/test.url  \n",
            "  inflating: wikipedia-biography-dataset/test/test.contributors  \n",
            "  inflating: wikipedia-biography-dataset/test/test.title  \n",
            "   creating: wikipedia-biography-dataset/train/\n",
            "  inflating: wikipedia-biography-dataset/train/train.box  \n",
            "  inflating: wikipedia-biography-dataset/train/train.id  \n",
            "  inflating: wikipedia-biography-dataset/train/train.nb  \n",
            "  inflating: wikipedia-biography-dataset/train/train.sent  \n",
            "  inflating: wikipedia-biography-dataset/train/train.url  \n",
            "  inflating: wikipedia-biography-dataset/train/train.contributors  \n",
            "  inflating: wikipedia-biography-dataset/train/train.title  \n",
            "   creating: wikipedia-biography-dataset/valid/\n",
            "  inflating: wikipedia-biography-dataset/valid/valid.box  \n",
            "  inflating: wikipedia-biography-dataset/valid/valid.id  \n",
            "  inflating: wikipedia-biography-dataset/valid/valid.nb  \n",
            "  inflating: wikipedia-biography-dataset/valid/valid.sent  \n",
            "  inflating: wikipedia-biography-dataset/valid/valid.url  \n",
            "  inflating: wikipedia-biography-dataset/valid/valid.contributors  \n",
            "  inflating: wikipedia-biography-dataset/valid/valid.title  \n",
            "  inflating: wikipedia-biography-dataset/LICENSE.txt  \n",
            "  inflating: wikipedia-biography-dataset/.DS_Store  \n",
            "  inflating: wikipedia-biography-dataset/._.DS_Store  \n",
            "  inflating: wikipedia-biography-dataset/README.txt  \n"
          ]
        }
      ],
      "source": [
        "!cat wikipedia-biography-dataset/wikipedia-biography-dataset.z?? > tmp.zip\n",
        "!unzip -o tmp.zip\n",
        "!rm tmp.zip"
      ]
    },
    {
      "cell_type": "markdown",
      "metadata": {
        "id": "1rRYqmfSTcw0"
      },
      "source": [
        "Get all the wikipedia titles."
      ]
    },
    {
      "cell_type": "code",
      "execution_count": null,
      "metadata": {
        "id": "mdVrlCf-4TAq"
      },
      "outputs": [],
      "source": [
        "train_titles = []\n",
        "with open(\"wikipedia-biography-dataset/train/train.title\", \"r\") as file:\n",
        "  for line in file:\n",
        "    train_titles.append(line.rstrip())"
      ]
    },
    {
      "cell_type": "markdown",
      "metadata": {
        "id": "YOkCic0NTeuS"
      },
      "source": [
        "Boxes contain all the information, with each line corresponding to a title in `titles`."
      ]
    },
    {
      "cell_type": "code",
      "execution_count": null,
      "metadata": {
        "id": "C80pu63x4o-Y"
      },
      "outputs": [],
      "source": [
        "train_boxes = []\n",
        "with open(\"wikipedia-biography-dataset/train/train.box\", \"r\") as file:\n",
        "  for line in file:\n",
        "    train_boxes.append(line.rstrip())"
      ]
    },
    {
      "cell_type": "markdown",
      "metadata": {
        "id": "63cxS1DWTk0h"
      },
      "source": [
        "This will make the DB object, a dictionary of dictionaries for each wikipedia title, which is more or less the same as names. This function only keeps politicians (containing the \"office\" key term) and strips out information about images. It can be improved in many ways."
      ]
    },
    {
      "cell_type": "code",
      "execution_count": null,
      "metadata": {
        "id": "Pr97KJLc4v7v"
      },
      "outputs": [],
      "source": [
        "# Make a dictionary of dictionaries\n",
        "def make_db(titles, boxes):\n",
        "  db = {} # The DB\n",
        "  # Iterate through titles\n",
        "  for i in tqdm(range(len(titles))):\n",
        "    box = boxes[i] # Grab the corresponding box information\n",
        "    d  = {} # Inner dictionary\n",
        "    # Build a dict for the ith entry\n",
        "    # grab each key:value pair\n",
        "    for pair in re.findall(r'([a-zA-Z_]+)[0-9]*\\:([\\w\\d]+)', box):\n",
        "      key, value = pair\n",
        "      # Do a bit of cleaning\n",
        "      key = key.strip()\n",
        "      value = value.strip()\n",
        "      # If the key contains the word image, we probably don't want to keep it\n",
        "      if 'image' not in key:\n",
        "        # The regex maintains underscores, strip those off\n",
        "        if key[-1] == '_':\n",
        "          key = key[:-1]\n",
        "        # Make a new entry in inner dictionary if we don't have one\n",
        "        if key not in d:\n",
        "          d[key] = value\n",
        "        # Keys with compound values are split up, which is annoying, so put them back together\n",
        "        else:\n",
        "          d[key] += ' ' + value\n",
        "    # If it has an office key, keep it.\n",
        "    if 'office' in d:\n",
        "      db[titles[i]] = d\n",
        "  return db"
      ]
    },
    {
      "cell_type": "markdown",
      "metadata": {
        "id": "S9hB1o63U45e"
      },
      "source": [
        "Build the vocab from the DB. Convert the whole thing into a string, tokenize it, and feed the surviving words into the vocab."
      ]
    },
    {
      "cell_type": "code",
      "execution_count": null,
      "metadata": {
        "id": "p13O5dcVvdZu"
      },
      "outputs": [],
      "source": [
        "def make_vocab(DB):\n",
        "  # Make the vocab object\n",
        "  vocab = Vocab()\n",
        "  # Tokenize the data by converting the entire DB into a string\n",
        "  tokens = tokenize(str(DB))\n",
        "  # Iterate through all the tokens (tqdm provides a progress bar)\n",
        "  for t in tqdm(tokens):\n",
        "    vocab.add_word(t)\n",
        "  return vocab"
      ]
    },
    {
      "cell_type": "markdown",
      "metadata": {
        "id": "Zkjf7mbAVA9H"
      },
      "source": [
        "If you want to discard rare words, this will rebuild the vocab. This is just an example."
      ]
    },
    {
      "cell_type": "code",
      "execution_count": null,
      "metadata": {
        "id": "448Ww-BFtBL3"
      },
      "outputs": [],
      "source": [
        "def reduce_vocab(vocab, min_word_occurrence = 2):\n",
        "  # make a new vocab\n",
        "  vocab2 = Vocab(\"top\")\n",
        "  # Add the UNK token\n",
        "  vocab2.add_word(UNK)\n",
        "  # Iterate through vocabulary\n",
        "  for w in list(vocab._word2count.keys()):\n",
        "    count = vocab._word2count[w]\n",
        "    idx = vocab._word2index[w]\n",
        "    # If the word count passes threshold, add it to the new vocabulary object\n",
        "    if count >= min_word_occurrence:\n",
        "      vocab2.add_word(w)\n",
        "      vocab2._word2count[w] = count\n",
        "  # Return the new vocabulary object\n",
        "  return vocab2"
      ]
    },
    {
      "cell_type": "markdown",
      "metadata": {
        "id": "iVS602YPVE9N"
      },
      "source": [
        "Make the DB"
      ]
    },
    {
      "cell_type": "code",
      "execution_count": null,
      "metadata": {
        "id": "cio_ZwncrGf0",
        "colab": {
          "base_uri": "https://localhost:8080/"
        },
        "outputId": "22d11c55-53ff-4044-d4dd-0950d1c5c6ee"
      },
      "outputs": [
        {
          "output_type": "stream",
          "name": "stderr",
          "text": [
            "100%|██████████| 582659/582659 [00:36<00:00, 15829.38it/s]\n"
          ]
        }
      ],
      "source": [
        "DB = make_db(train_titles, train_boxes)"
      ]
    },
    {
      "cell_type": "markdown",
      "metadata": {
        "id": "ETLqtWtyVKLE"
      },
      "source": [
        "Make the VOCAB"
      ]
    },
    {
      "cell_type": "code",
      "execution_count": null,
      "metadata": {
        "id": "lc7oi3p54SOb",
        "colab": {
          "base_uri": "https://localhost:8080/"
        },
        "outputId": "ef524eae-d84f-45f2-aa30-3d0561f21485"
      },
      "outputs": [
        {
          "output_type": "stream",
          "name": "stderr",
          "text": [
            "100%|██████████| 2997937/2997937 [00:01<00:00, 1831758.36it/s]\n"
          ]
        },
        {
          "output_type": "stream",
          "name": "stdout",
          "text": [
            "96093\n"
          ]
        }
      ],
      "source": [
        "VOCAB = make_vocab(DB)\n",
        "print(VOCAB.num_words())"
      ]
    },
    {
      "cell_type": "markdown",
      "metadata": {
        "id": "Y9AP3Dcle5VC"
      },
      "source": [
        "## Save Processed Data"
      ]
    },
    {
      "cell_type": "markdown",
      "metadata": {
        "id": "QiTQxguSXEuq"
      },
      "source": [
        "You may find it useful to save the processed dataset to your Google Drive.\n",
        "\n",
        "It is recommended that you save the file to your Google Drive. To mount your Google Drive, open the file icon on the left side of the screen to get to the option). To save the file in your Google Drive use the path `'drive/MyDrive/filename'`.)"
      ]
    },
    {
      "cell_type": "code",
      "source": [
        "from google.colab import drive\n",
        "drive.mount('/content/drive')"
      ],
      "metadata": {
        "id": "6DNxueU-gpz_",
        "colab": {
          "base_uri": "https://localhost:8080/"
        },
        "outputId": "1daecc72-847f-4077-bc4b-3b1dfcdfede6"
      },
      "execution_count": 11,
      "outputs": [
        {
          "output_type": "stream",
          "name": "stdout",
          "text": [
            "Mounted at /content/drive\n"
          ]
        }
      ]
    },
    {
      "cell_type": "code",
      "execution_count": null,
      "metadata": {
        "id": "DwagcDU_Ut2Q"
      },
      "outputs": [],
      "source": [
        "with open(\"drive/MyDrive/data\", \"wb\") as f:\n",
        "  pickle.dump(DB, f, protocol=None, fix_imports=True, buffer_callback=None)"
      ]
    },
    {
      "cell_type": "code",
      "execution_count": null,
      "metadata": {
        "id": "WS6a8EtX_h0F"
      },
      "outputs": [],
      "source": [
        "with open('drive/MyDrive/vocab', 'wb') as f:\n",
        "    pickle.dump(VOCAB, f, protocol=None, fix_imports=True, buffer_callback=None)"
      ]
    },
    {
      "cell_type": "markdown",
      "metadata": {
        "id": "lzlH6IKhe_Qa"
      },
      "source": [
        "## Load processed data"
      ]
    },
    {
      "cell_type": "markdown",
      "metadata": {
        "id": "2AlkMbibXYWg"
      },
      "source": [
        "If you have saved the processed data in your Google Drive, you can re-load it with these commands."
      ]
    },
    {
      "cell_type": "code",
      "execution_count": 12,
      "metadata": {
        "id": "ZCaiBhdvCa_C"
      },
      "outputs": [],
      "source": [
        "with open(\"drive/MyDrive/vocab\", \"rb\") as f:\n",
        "  VOCAB = pickle.load(f)"
      ]
    },
    {
      "cell_type": "code",
      "execution_count": 13,
      "metadata": {
        "id": "IinOyL_4C1Hx"
      },
      "outputs": [],
      "source": [
        "with open(\"drive/MyDrive/data\", \"rb\") as f:\n",
        "  DB = pickle.load(f)"
      ]
    },
    {
      "cell_type": "markdown",
      "metadata": {
        "id": "vcZcFUxrfCnB"
      },
      "source": [
        "## Data example"
      ]
    },
    {
      "cell_type": "markdown",
      "metadata": {
        "id": "jKKoOuLCVYxd"
      },
      "source": [
        "Get to know your data."
      ]
    },
    {
      "cell_type": "code",
      "execution_count": null,
      "metadata": {
        "id": "dbLkOyB2pp_M",
        "colab": {
          "base_uri": "https://localhost:8080/"
        },
        "outputId": "9a3659bc-69bf-4872-9c96-fb7227adc8bb"
      },
      "outputs": [
        {
          "output_type": "execute_result",
          "data": {
            "text/plain": [
              "{'name': 'alexander hamilton',\n",
              " 'office': '1st united states secretary of the treasury senior officer of the army delegate to the congress of the confederation from new york',\n",
              " 'president': 'george washington john adams',\n",
              " 'term_start': 'september 11 1789 december 14 1799 november 3 1788 november 4 1782',\n",
              " 'term_end': 'january 31 1795 june 15 1800 march 2 1789 june 21 1783',\n",
              " 'predecessor': 'position established george washington egbert benson seat established',\n",
              " 'successor': 'oliver wolcott jr james wilkinson seat abolished seat abolished',\n",
              " 'birth_date': '11 january 1755',\n",
              " 'birth_place': 'charlestown nevis british west indies',\n",
              " 'death_date': 'july 12 1804 aged 47 or 49',\n",
              " 'death_place': 'new york city new york u',\n",
              " 'party': 'federalist',\n",
              " 'spouse': 'elizabeth schuyler',\n",
              " 'children': 'philip angelica alexander james alexander john church william stephen eliza holly phil',\n",
              " 'alma_mater': 'kings college new york',\n",
              " 'religion': 'presbyterian episcopalian convert',\n",
              " 'signature': 'alexander hamilton signaturert',\n",
              " 'allegiance': 'flag_of_new_york _ 1778 svg 23px new york 1775 1777 united states 1795 23px 1777 1800',\n",
              " 'branch': 'flag_of_new_york _ 1778 svg 23px new york company of artillery united states 1777 23px continental army 25px united states army',\n",
              " 'serviceyears': '1775 1776 militia 1776 1781 1798 1800',\n",
              " 'rank': '23px',\n",
              " 'article_title': 'alexander hamilton'}"
            ]
          },
          "metadata": {},
          "execution_count": 21
        }
      ],
      "source": [
        "DB[\"alexander hamilton\"]"
      ]
    },
    {
      "cell_type": "markdown",
      "metadata": {
        "id": "ITACHJTWfE5m"
      },
      "source": [
        "# Part B: Implement the Key-Value Memory Network (10 points)"
      ]
    },
    {
      "cell_type": "markdown",
      "metadata": {
        "id": "xQqLE-fcI_43"
      },
      "source": [
        "This [paper](https://arxiv.org/abs/1606.03126) describes the key-value memory networks in detail, which is also sketched out below.\n",
        "\n",
        "A key-value memory network takes a natural language question. This question will be converted into a bag-of-words (i.e., a multihot) Call this $x$ and it is a 1D tensor of vocabulary length.\n",
        "\n",
        "![KVMemNet architecture](https://github.com/markriedl/kvmemnet-assignment/blob/32479dd1e88a9f8dfc72f11ccb8e9e0e1f78905f/kvmemnet-inside.png?raw=true)\n",
        "\n",
        "The KVMemNet will contain a linear layer (or embedding layer) that will produce a 1D embedding of the question $q=A(x)$.\n",
        "\n",
        "The KVMemNet will also take in a stack of keys as a tensor of shape `num_keys x vocab_size`. Each row is embedded using the same embedding, $k=A(keys)$, producing a tensor of shape `num_keys x embed_dim`. How this stack of keys is chosen will be discussed below.\n",
        "\n",
        "The KVMemNet will take in a third input, a stack of values associated with the stack of keys. This will also be of shape `num_values x vocab_size`. Each row is embedded using the same embedding, $v=A(values)$, producing a tensor of shape `num_keys x embed_dim`.\n",
        "\n",
        "The KVMemNet will also contain a second linear embedding layer, $B$. More on this later.\n",
        "\n",
        "Once we have `q`, `k`, and `v` embeddings, the next step is to use `q` and `k` to compute attention scores that can be applied against `v`. Think of $A$ as learning how to make questions and the keys that should match against values that have received the same treatment.\n",
        "\n",
        "The attention scores `p` are computed by taking the inner-product (`torch.inner()`) between `q` and `k`. The result will be a 1D tensor with `num_keys` length. Use softmax so that `p` contains scores between 1.0 and 0.0.\n",
        "\n",
        "You may be wondering why there isn't a non-linearity such as a sigmoid or ReLU after the linear layer. Softmax is a non-linearity.\n",
        "\n",
        "Next apply the `p` attention scores against `v` to apply a weight against each value in the stack of values. One should be highly weighted and the rest less weighted. Sum all the weighted values up to create a 1D tensor `o` of feature weights of length `embed_dim`. `p` can be thought of as how much of each value gets selected. Then they all get combined together and the feature weights are proportional to how much each value was attended to. The `torch.matmul()` can do the multiplication and summing in one step.\n",
        "\n",
        "The KVMemNet forward function should return this tensor of feature weights `o`.\n",
        "\n",
        "A quick note on `k` and `v`. We can't send the entire set of keys and values in our database through the network's forward function. Instead there should be a selection mechanism that selects just a subset of the database. This subset should contain the best key for the question $x$ to match against, and its corresponding value. We assume that a shallow selection process can narrow down the key-value pairs to a relatively small set, one of which will be best. For example, if the question involves \"Alexander Hamilton\", we can reasonably guess that the best key-value pair is in the part of the database associated with the named person.\n",
        "\n",
        "We are not done though. What about our linear layer $B$? Suppose variable `Y` contains our entire set of values in our databse as bags of words. $B$ is going to be used to embed our entire set of database values $y=B(Y)$. $B$ can be thought of as learning how to make all the values look like the feature weights output by the model such that the highest cosine similarity corresponds to the correct value taken from *all* values in the database.\n",
        "\n",
        "$B$ should live inside the KVMemNet object so that its parameters become trainable, but notice that we do not use $B$ in the KVMemNet's forward function. $B$ will get used to prepare the stack of all values in the database for training. It will bet used in the training loop but outside of the forward function. This is a bit unusual, but necessary to figure out the correct target (the true index of the best value to match against) for training.\n",
        "\n",
        "The above explantion only implements *single-hop* retrieval. *multi-hop* retrieval allows the results of one retrieval to inform a second (and third and so on) to get the right retrieval. This would be used in the case where the answer cannot be inferred directly from the question in a single retrieval, such as \"What was the founding date of the country that Alexander Hamilton was born in?\". To implement multi-hop retrieval, the KVMemNet will have additional linear layers $R_1...R_n$. Each $R_{i}$ will do a linear transform on `q` then attention will score and retrieve values as feature weights `o`. This will be sent to the next $R_{i+1}$ and so on until the hops are complete. This final `o` will be returned.\n",
        "\n",
        "For this assignment is is sufficient to only do *single-hop* retrieval.\n",
        "\n",
        "The above explanation does not include consideration of batching. You may want to add a batch dimension as the first dimension and input a batch as a set of questions, a set of stacks of keys, and a set of stacks of values. To do this, functions like `.inner()`, `.mm()`, and`.matmul()` will not work. Instead use `.bmm()` which handles batching correctly. You will probably need to do some `.squeeze()` and `.unsqueeze()` operations to make sure your tensors are the correct shapes.\n",
        "\n",
        "Instead of bag-of-words, one may also consider first converting each question, key, and value into a general set of embeddings such as [GLoVe](https://nlp.stanford.edu/projects/glove/). To do this one will need to consider how to combine words--convert each word into an embedding vector and then add the vectors together (or maybe average them)."
      ]
    },
    {
      "cell_type": "markdown",
      "metadata": {
        "id": "DSf1SSX7bgdE"
      },
      "source": [
        "**Complete the key-value memory net code**"
      ]
    },
    {
      "cell_type": "code",
      "execution_count": 16,
      "metadata": {
        "id": "9zex3XZzw0-l"
      },
      "outputs": [],
      "source": [
        "class KVMemNet(nn.Module):\n",
        "  def __init__(self, vocab_size, embed_dim):\n",
        "    super(KVMemNet, self).__init__()\n",
        "    self.vocab_size = vocab_size\n",
        "    self.embed_dim = embed_dim\n",
        "    ### YOUR CODE HERE\n",
        "\n",
        "    ''' Citation: HW5 recitation\n",
        "    #batching done in KVMemNet - check if the training can also be done in batches to reduce time?\n",
        "\n",
        "    '''\n",
        "\n",
        "    self.A=nn.Linear(vocab_size, embed_dim)\n",
        "    self.B=nn.Linear(vocab_size, embed_dim)\n",
        "    self.softmax=nn.Softmax(dim=1)\n",
        "\n",
        "  def forward(self, x, keys, values):\n",
        "    output = None\n",
        "    ### YOUR CODE BELOW\n",
        "    '''\n",
        "    Steps to be done:\n",
        "\n",
        "    x=[batch_size, vocab_size]--> q=[batch_size, embed_dim]\n",
        "    k=[batch_size, num_keys, vocab_size]--> [batch_size, num_keys, embed_dim]\n",
        "    v=[batch_size, num_keys, vocab_size]--> [batch_size, num_keys, embed_dim]\n",
        "\n",
        "    p=softmax(q.k) --> [batch_size, num_keys]\n",
        "    output=p.v --> [batch_size, embed_dim]\n",
        "    '''\n",
        "\n",
        "    batch_size=x.shape[0]\n",
        "    num_keys=keys.shape[1]\n",
        "\n",
        "    q=self.A(x) #[batch_size, embed_dim]\n",
        "    k=self.A(keys) #[batch_size, num_keys, embed_dim]\n",
        "    v=self.A(values) #[batch_size, num_keys, embed_dim]\n",
        "\n",
        "    q=q.unsqueeze(1)  #[batch_size, 1, embed_dim]\n",
        "    p=torch.bmm(q, k.transpose(1, 2)).squeeze(1)  #[batch_size, 1, embed_dim] bmm [batch_size, embed_dim, num_keys] = [batch_size, 1, num_keys] --> squeeze at 1 = [batch_size, num_keys]\n",
        "    p=self.softmax(p)\n",
        "\n",
        "\n",
        "    p=p.unsqueeze(1)  #[batch_size, 1, num_keys]\n",
        "    output=torch.bmm(p, v).squeeze(1)  #[batch_size, 1, num_keys] bmm [batch_size, num_keys, embed_dim] = [batch_size, 1, embed_dim] --> squeeze at 1 = [batch_size, embed_dim]\n",
        "\n",
        "    ### YOUR CODE ABOVE\n",
        "    return output"
      ]
    },
    {
      "cell_type": "markdown",
      "metadata": {
        "id": "p8pshjz9hRps"
      },
      "source": [
        "\n",
        "# Synthetic Data Set\n",
        "\n",
        "This is a synthetic dataset. One way to test a model during development is to take a small piece of data and show that you can overfit a model. If you can't overfit an easily learned chunk of data, then you probably have something wrong in your code. In this case I have provided a small chunk of synthetic data that should be easy to learn.\n",
        "\n",
        "- The vocabulary is 20 word: 5 names, 5 relations, 5 question-words, 5 values\n",
        " - First 5 elements of the vocab are names (for example index 0 might be \"Hamilton\").\n",
        " - Second 5 elements of the vocab are relations (for example, \"born\", \"died\", \"occupation\").\n",
        " - Third 5 elements are random words that might be part of a query (for example, \"When was\").\n",
        " - Final 5 elements of the vocab are possible values (for example, \"1757\")\n",
        "- A \"question\" is a name (5, 1), relation (5, 1), some words (5, 1), and no values\n",
        "- The keys will all have the same name (5, 5) where each row is idential, relations (5, 5), no words, no values\n",
        "- Values will have no names, no relations, no words, and value vocab words"
      ]
    },
    {
      "cell_type": "code",
      "execution_count": null,
      "metadata": {
        "id": "Qvuyp-g7grYw"
      },
      "outputs": [],
      "source": [
        "# Turn on a different relation on each row\n",
        "relations = torch.zeros(5, 5)\n",
        "relations.fill_diagonal_(1)\n",
        "\n",
        "# training data\n",
        "train_data = {}\n",
        "for i in range(5):\n",
        "  # Name associated with questions, keys, values\n",
        "  '''\n",
        "  Understanding the structure of synthetic data to be reconstructed for train-test:\n",
        "\n",
        "  train_data[0] for the same person Hamilton(repeated 5 times), 5 relation, 5 question-words, 5 values corresponding\n",
        "\n",
        "            questions [5,20] - stacks name, relation, words, values horizontally --> \"Hamilton (1X5) Born(1X5) When(1X5) zero(1X5)\" 5 such rows for 5 different questions regarding hamilton\n",
        "              name (5, 5) -> Name\n",
        "              relation (5, 5) -> Relations\n",
        "              words (5, 5) -> Random question words\n",
        "              values (5, 5) -> No values\n",
        "\n",
        "            keys [5,20] --> \"Hamilton (1X5) Born(1X5) zero(1X5) zero(1X5)\" 5 such rows\n",
        "              name (5, 5) -> Name\n",
        "              relation (5, 5) -> Relations\n",
        "              words (5, 5) -> No question words\n",
        "              values (5, 5) -> No values\n",
        "\n",
        "            values [5,20] --> \"zero (1X5) zero(1X5) zero(1X5) 1755(1X5)\" 5 such rows\n",
        "              name (5, 5) -> No Name\n",
        "              relation (5, 5) -> No Relations\n",
        "              words (5, 5) -> No  question words\n",
        "              values (5, 5) -> values\n",
        "\n",
        "\n",
        "\n",
        "\n",
        "  Y --> \"zero (1X5) zero(1X5) zero(1X5) 1755(1X5)\" 5 such rows for 5 different values from train[0] Hamilton, 5 such for all train\n",
        "          extracts the 'values' tensor ((5, 20)) from each train_data[i]\n",
        "          Stacks all 5 (5 training points) vertically\n",
        "          [5* 5, 20] --> [25, 20]\n",
        "  '''\n",
        "  train_data[i] = (torch.cat([F.one_hot(torch.arange(0, 5))[i].repeat(5, 1),\n",
        "                         relations,\n",
        "                         torch.randint(0, 2, (5, 5)).float(),\n",
        "                         torch.zeros(5, 5)], dim=1),\n",
        "              torch.cat([F.one_hot(torch.arange(0, 5))[i].repeat(5, 1),\n",
        "                         relations,\n",
        "                         torch.zeros(5, 5),\n",
        "                         torch.zeros(5, 5)], dim=1),\n",
        "              torch.cat([torch.zeros(5, 5),\n",
        "                         torch.zeros(5, 5),\n",
        "                         torch.zeros(5, 5),\n",
        "                         torch.randint(0, 2, (5, 5)).float()], dim=1))\n",
        "  Y = torch.cat([v[2] for v in list(train_data.values())], dim=0)#.to('cuda')"
      ]
    },
    {
      "cell_type": "markdown",
      "metadata": {
        "id": "G6R_xIi_TZVp"
      },
      "source": [
        "# Part C: Train on Synthetic Data (5 points)"
      ]
    },
    {
      "cell_type": "markdown",
      "metadata": {
        "id": "4slHUG5cPDtT"
      },
      "source": [
        "The following describes the steps to set up a training loop, including the training of the $B$ layer.\n",
        "\n",
        "![The KVMemNet being used in the training loop](https://github.com/markriedl/kvmemnet-assignment/blob/main/kvmemnet-outside.png?raw=true)\n",
        "\n",
        "- Create a model with the given vocabulary size and an embedding size that is equal to or smaller.\n",
        "- Loop through `N` epochs:\n",
        " - There are five names, loop through each name.\n",
        "   - Get a stack of questions, stack of keys, and stack of values from `DB_synth`.\n",
        "   - Loop through the relations. There is relation on each row of the keys and values.\n",
        "     - Get a single question, the `i`-th row in the questions pulled from `DB_synth` above.\n",
        "     - Compute the target: this is the `name*5 + i` element in `Y`.\n",
        "     - Run the singular question, stack of keys, and stack of values through the model and produce an output, which is a tensor of feature weights.\n",
        "     - Run all of `Y` through `model.B()` to get an embedded stack of values.\n",
        "     - Take the softmax of the inner product between the embedded stack of values from `Y` and the feature weight generated by the model.\n",
        "     - Compute the loss with `nn.CrossEntropyLoss`.\n",
        "     - Call `.backward()` on the loss.\n",
        "\n",
        "In addition to printing the loss (after every question or after every name in `DB_synth`) you can also print the target and the argmax of the softmax result to see if they match. Over time you should see the target and the argmax in agreement. For the purposes of this part of the project it is sufficient to test on the training set.\n",
        "\n",
        "Don't forget to move the model and the tensor to the GPU.\n",
        "\n",
        "You may want to speed up training by implementing batching. To do this, the model `forward()` needs to take tensors with an extra batching dimension as the first dimension. However, `.inner()`, `.mm()`, and `.matmul()` will not work properly. You will need to use `.bmm()` instead, which understands the first dimension is for batching. You will likely find that you need to perform some `.squeeze()` and `.unsqueeze()` operations. You can try batch-size of one, or take entire chunks (or even all synthetic data as a single, large batch). Try it different ways.\n",
        "\n",
        "Try training on the synthetic data first."
      ]
    },
    {
      "cell_type": "markdown",
      "source": [
        "You may make as many cells as necessary. Save your notebook outputs that plot loss and show it reducing."
      ],
      "metadata": {
        "id": "zu1CMkabZkyU"
      }
    },
    {
      "cell_type": "markdown",
      "metadata": {
        "id": "0MqIdFVAbqr1"
      },
      "source": [
        "**Write code blocks below that create the `KVMemNet`**"
      ]
    },
    {
      "cell_type": "code",
      "source": [
        "# Set up your KVMemNet, move it to the GPU, setup up optimizer (e.g., Adam), and criterion.\n",
        "vocab_size=20\n",
        "embed_dim=10\n",
        "model=KVMemNet(vocab_size, embed_dim)#.to('cuda')  #move it to the GPU\n",
        "\n",
        "optimizer=optim.Adam(model.parameters(), lr=0.001)\n",
        "\n",
        "criterion=nn.CrossEntropyLoss()"
      ],
      "metadata": {
        "id": "wxso4hXaTKSK"
      },
      "execution_count": null,
      "outputs": []
    },
    {
      "cell_type": "markdown",
      "metadata": {
        "id": "001D35pTb82K"
      },
      "source": [
        "**Write and run a training testing loop. Show that your training loop loss converges with a plot**\n",
        "\n",
        "To plot a loss curve, compute the mean loss per epoch and save it in a list:\n",
        "```\n",
        "x_axis.append(epoch_number)\n",
        "y_axis.append(mean_epoch_loss_for_this_epoch)\n",
        "plt.plot(x_axis, y_axis)\n",
        "plt.show()\n",
        "```"
      ]
    },
    {
      "cell_type": "code",
      "source": [
        "import torch\n",
        "import torch.nn as nn\n",
        "import torch.optim as optim\n",
        "import torch.nn.functional as F\n",
        "import matplotlib.pyplot as plt\n",
        "\n",
        "'''\n",
        "Citation: HW5 recitation\n",
        "\n",
        "Steps of training:\n",
        "- Each batch is 5 rows (5 key-value pairs).\n",
        "- Each of the 5 questions map to the corresponding key(relation) and values(answers) attributed to that person (repeated 5 times)\n",
        "- Run the singular question, stack of keys, and stack of values through the model to get the output weights.\n",
        "- Map these weights to the embedded stack of values from Y to get the corresponding Y (predicted target)\n",
        "- Get the target from stacked values of Y (actual target)\n",
        "\n",
        "Results:\n",
        "- Get the CE loss and map loss curve over epochs to see if the loss is reducing\n",
        "- Also see if the targets and predicted match over epochs.\n",
        "As the synthetic data is very small so overtraining should happen but still some randomness in terms of data synthesized so the Y stacked values might have duplicate values\n",
        "i.e two values in Y (all values in database) might be the same so the weighted output might map to either of them\n",
        "\n",
        "\n",
        "'''\n",
        "\n",
        "epochs = 500 #100\n",
        "batch_size = 1  # Using batch size of 1 for this example\n",
        "train_losses = []  # for plotting\n",
        "\n",
        "for epoch in range(epochs):\n",
        "    model.train()\n",
        "    epoch_loss = 0.0\n",
        "\n",
        "    # Loop over batches (each batch is a slice of 5 rows for this example)\n",
        "    for name_index in range(5):\n",
        "        questions, keys, values = train_data[name_index]\n",
        "        keys=keys#.to('cuda')\n",
        "        values=values#.to('cuda')\n",
        "\n",
        "        for relation_index in range(5):\n",
        "          question=questions[relation_index]#.to('cuda')\n",
        "          # print(\"q,k,v sizes:\" ,question.size(), keys.size(), values.size())\n",
        "          output = model(question.unsqueeze(0), keys.unsqueeze(0), values.unsqueeze(0))\n",
        "          output=output.squeeze(0)\n",
        "          # print(\"output: \",output.size())\n",
        "\n",
        "          # print(\"Y: \", Y.size())\n",
        "          embedded_Y = model.B(Y)\n",
        "          # print(\"embedded_Y: \", embedded_values.size())\n",
        "\n",
        "          softmax_output = torch.inner(embedded_Y, output)\n",
        "          # print(\"softmax_output: \",softmax_output.size())\n",
        "\n",
        "          target_index=torch.tensor(name_index*5+relation_index)#.to('cuda')\n",
        "          # print(\"target_index: \",target_index.size())\n",
        "\n",
        "\n",
        "          # Accumulate loss\n",
        "          loss = criterion(softmax_output, target_index)\n",
        "          epoch_loss += loss.item()\n",
        "\n",
        "          # Backward pass\n",
        "          optimizer.zero_grad()\n",
        "          loss.backward()\n",
        "          optimizer.step()\n",
        "\n",
        "\n",
        "          # Predicted class as the highest prob in output\n",
        "          predicted = softmax_output.argmax(dim=0)\n",
        "\n",
        "          if (epoch + 1) % 100 == 0 and name_index==4:  # Print loss every 100 epochs and last name just to reduce verbose print\n",
        "              # print(f\"Epoch [{epoch+1}/{epochs}], Loss: {loss.item():.4f}\")\n",
        "              print(f\"Target: \",target_index.item())\n",
        "              print(f\"Predicted: {predicted}\")\n",
        "\n",
        "    avg_loss = epoch_loss / (5 * 5)  # Normalize by total iterations\n",
        "    train_losses.append(avg_loss)\n",
        "\n",
        "    if (epoch + 1) % 100 == 0:  # Print loss every 50 epochs\n",
        "        print(f\"Epoch {epoch+1}/{epochs}, Loss: {avg_loss:.4f}\")\n",
        "\n",
        "# Plot loss over epochs\n",
        "plt.plot(range(1, epochs + 1), train_losses, label=\"Training Loss\")\n",
        "plt.xlabel(\"Epochs\")\n",
        "plt.ylabel(\"Loss\")\n",
        "plt.title(\"Training Loss Curve\")\n",
        "plt.legend()\n",
        "plt.show()\n",
        "\n",
        "\n",
        "\n",
        "\n",
        "\n"
      ],
      "metadata": {
        "colab": {
          "base_uri": "https://localhost:8080/",
          "height": 1000
        },
        "id": "rImsQ2M7hDo-",
        "outputId": "8855630b-7d5b-436f-c7da-fe9d45dcabf9"
      },
      "execution_count": null,
      "outputs": [
        {
          "output_type": "stream",
          "name": "stdout",
          "text": [
            "Target:  20\n",
            "Predicted: 10\n",
            "Target:  21\n",
            "Predicted: 3\n",
            "Target:  22\n",
            "Predicted: 2\n",
            "Target:  23\n",
            "Predicted: 23\n",
            "Target:  24\n",
            "Predicted: 24\n",
            "Epoch 100/500, Loss: 1.1655\n",
            "Target:  20\n",
            "Predicted: 10\n",
            "Target:  21\n",
            "Predicted: 21\n",
            "Target:  22\n",
            "Predicted: 2\n",
            "Target:  23\n",
            "Predicted: 23\n",
            "Target:  24\n",
            "Predicted: 12\n",
            "Epoch 200/500, Loss: 0.7903\n",
            "Target:  20\n",
            "Predicted: 10\n",
            "Target:  21\n",
            "Predicted: 21\n",
            "Target:  22\n",
            "Predicted: 2\n",
            "Target:  23\n",
            "Predicted: 23\n",
            "Target:  24\n",
            "Predicted: 24\n",
            "Epoch 300/500, Loss: 0.7571\n",
            "Target:  20\n",
            "Predicted: 10\n",
            "Target:  21\n",
            "Predicted: 21\n",
            "Target:  22\n",
            "Predicted: 2\n",
            "Target:  23\n",
            "Predicted: 23\n",
            "Target:  24\n",
            "Predicted: 12\n",
            "Epoch 400/500, Loss: 0.7510\n",
            "Target:  20\n",
            "Predicted: 10\n",
            "Target:  21\n",
            "Predicted: 21\n",
            "Target:  22\n",
            "Predicted: 2\n",
            "Target:  23\n",
            "Predicted: 23\n",
            "Target:  24\n",
            "Predicted: 12\n",
            "Epoch 500/500, Loss: 0.7496\n"
          ]
        },
        {
          "output_type": "display_data",
          "data": {
            "text/plain": [
              "<Figure size 640x480 with 1 Axes>"
            ],
            "image/png": "[encoded data removed]"
          },
          "metadata": {}
        }
      ]
    },
    {
      "cell_type": "markdown",
      "metadata": {
        "id": "nupd-Gr9P6vc"
      },
      "source": [
        "# Part D: Training on the Full Data (10 points)"
      ]
    },
    {
      "cell_type": "markdown",
      "metadata": {
        "id": "r02Y9yvhPXy8"
      },
      "source": [
        "To train on the full data, you are going to need to do some pre-processing of the data.\n",
        "\n",
        "First, there are no \"questions\". You need to generate questions for each type of relation. There a number of ways to do this. The simplest is to just assume that a question is the name of a person and a relation, e.g., \"Alexander Hamilton birth date\". Another way would be to create templates for each type of relation. For example the \"birth date\" relation would have the following template: \"When was [name] born?\", filling in the [name]. Because there are a lot of different types of relations, you may want to remove the more obscure relations so you need fewer templates and also have a smaller vocabulary. Templates work well if the questions are expected to be almost identical to the templates. You may want to generate multiple templates per relation. Continuing the previous example, a second template would be: \"What is the birthdate of [name]?\".\n",
        "\n",
        "If you are feeling more ambitious, you could use GPT-J, GPT-NeoX, GPT-3 or ChatGPT to generate templates. It works decently well and you can get some variety of templates.\n",
        "\n",
        "The question should contain information about the person and some words that are representative of the relation even if the exact relation words aren't used (the KVMemNet should figure out that \"birthdate\" and \"born\" are correlated).\n",
        "\n",
        "You only put a subset of all key-value pairs into the KVMemNet. You need a technique for sub-selecting from all the key-value pairs in `DB`. You might just need the ones that are directly associated with the person (Alexander Hamilton has 23). You may need to mix in a few key-value pairs from another person's entries in the database to help ensure against accidental overfitting.\n",
        "\n",
        "The final challenge you will have in the training loop is that there may still be too many unique values in `Y` to encode and create one big tensor. In that case, you can at least use the values that you sent to the KVMemNet, along with as many other randomly selected values as you can fit into the GPU's memory."
      ]
    },
    {
      "cell_type": "markdown",
      "metadata": {
        "id": "3I3CTqeEfa1m"
      },
      "source": [
        "Create as many cells below as you need. Save the output of your training and testing functions, reporting loss during training and accuracy during testing. 5 points for a training loop that reduces loss. 5 points for a training function with a correct accuracy computation."
      ]
    },
    {
      "cell_type": "markdown",
      "source": [
        "**Create a training dataset and a non-overlapping testing dataset**\n",
        "\n",
        "If CPU memory becomes a problem you might want to consider a `DataLoader` so that data can be stored on file and pulled up when needed."
      ],
      "metadata": {
        "id": "D-970kRwZ26n"
      }
    },
    {
      "cell_type": "code",
      "source": [
        "# Create your training and test sets here"
      ],
      "metadata": {
        "id": "V6VEnB_VS7Px"
      },
      "execution_count": null,
      "outputs": []
    },
    {
      "cell_type": "code",
      "source": [
        "'''\n",
        "Citation: HW5 recitation\n",
        "\n",
        "Each train row is for a dedicated person and number of rows within the person-set is the number of relations.\n",
        "For training purpose I am limiting to the birth date, birth place, death date, death place, office relation only.\n",
        "The (q,k,v) set for each relation of the person is set as below-\n",
        "  q= name\n",
        "  k= name key\n",
        "  v= name value\n",
        "\n",
        "I am working with CPU hence just training with 100 person records. Testing over 10 persons.\n",
        "\n",
        "'''\n",
        "\n",
        "d=[]\n",
        "for name, content in DB.items():\n",
        "  # print(name,content)\n",
        "  person=[]\n",
        "  for key, value in content.items():\n",
        "    if \"birth\" in key or \"death\" in key or \"office\" in key:\n",
        "      # print(name, \"-\" , key, \"-\" , value)\n",
        "      tmp = [name, \"{} {}\".format(name, key), \"{} {}\".format(name, value)]\n",
        "      person.append(tmp)\n",
        "  d.append(person)\n",
        "\n",
        "train_num=100\n",
        "test_num=train_num+10\n",
        "train_data=d[:train_num]\n",
        "test_data=d[train_num:test_num]\n",
        "\n",
        "train_data[0]"
      ],
      "metadata": {
        "colab": {
          "base_uri": "https://localhost:8080/"
        },
        "id": "KE4kMzr2v3L4",
        "outputId": "dfe6ff44-c3ee-40a6-e0de-891e0ea2e892"
      },
      "execution_count": null,
      "outputs": [
        {
          "output_type": "execute_result",
          "data": {
            "text/plain": [
              "[['j. p. featherston',\n",
              "  'j. p. featherston birth_date',\n",
              "  'j. p. featherston november 28 1830'],\n",
              " ['j. p. featherston',\n",
              "  'j. p. featherston birth_place',\n",
              "  'j. p. featherston durham county durham'],\n",
              " ['j. p. featherston',\n",
              "  'j. p. featherston death_date',\n",
              "  'j. p. featherston 1917'],\n",
              " ['j. p. featherston',\n",
              "  'j. p. featherston death_place',\n",
              "  'j. p. featherston ottawa'],\n",
              " ['j. p. featherston',\n",
              "  'j. p. featherston office',\n",
              "  'j. p. featherston mayor of ottawa']]"
            ]
          },
          "metadata": {},
          "execution_count": 54
        }
      ]
    },
    {
      "cell_type": "markdown",
      "metadata": {
        "id": "MI3b5x2zfl8g"
      },
      "source": [
        "**Create your `KVMemNet`**"
      ]
    },
    {
      "cell_type": "code",
      "source": [
        "# Set up your KVMemNet here\n",
        "vocab_size=VOCAB.num_words()\n",
        "embed_dim=100 #Setting a larger embedding size than synthetic data because the vocab size is huge here, so while squeezing all info from vocabsize to the embedding size less info loss would be faced.\n",
        "model=KVMemNet(vocab_size, embed_dim)#.to('cuda')  #move it to the GPU\n",
        "\n",
        "optimizer=optim.Adam(model.parameters(), lr=0.001)\n",
        "\n",
        "criterion=nn.CrossEntropyLoss()"
      ],
      "metadata": {
        "id": "OEKJ1KJxTBUJ"
      },
      "execution_count": 17,
      "outputs": []
    },
    {
      "cell_type": "markdown",
      "metadata": {
        "id": "9Ug_8X-2fwYD"
      },
      "source": [
        "**Write and run a training loop, showing a loss plot**\n",
        "\n",
        "You may find it handy to also test your network on the test data periodically as it trains."
      ]
    },
    {
      "cell_type": "code",
      "source": [
        "# Training loop goes here\n",
        "\n",
        "\n",
        "'''\n",
        "Citation: HW5 recitation\n",
        "\n",
        "Each train row is for a dedicated person and number of rows within the person-set is the number of relations.\n",
        "For training purpose I am limiting to the birth date, birth place, death date, death place, office relation only.\n",
        "The (q,k,v) set for each relation of the person is set as below-\n",
        "  q= name\n",
        "  k= name key\n",
        "  v= name value\n",
        "\n",
        "For getting Y- The recitation showed we are attempting to figure out in the person specific BOW only rather than all the values in the database (which would help with computation resources availability)\n",
        "\n",
        "'''\n",
        "\n",
        "import torch\n",
        "import torch.nn as nn\n",
        "import torch.optim as optim\n",
        "import torch.nn.functional as F\n",
        "import matplotlib.pyplot as plt\n",
        "\n",
        "import warnings\n",
        "warnings.filterwarnings(\"ignore\")\n",
        "\n",
        "\n",
        "epochs = 10 #500 #100\n",
        "train_losses = []  # for plotting\n",
        "\n",
        "# #Creating the entire BOW of values for Y from all values in the database. But the recitation showed we are attempting to figure out in the person specific BOW only (which would help with computation resources availability) thus used B(value for that person) and not B(Y_encoded)\n",
        "# Y = [row[2] for row in train_data[0]] #torch.cat([v[2] for v in list(train_data.values())], dim=0)#.to('cuda')\n",
        "# Y_encoded=[multihot(row, VOCAB) for row in Y]\n",
        "# Y_encoded=torch.tensor(Y_encoded)#.to('cuda')\n",
        "# Y_encoded.size()\n",
        "\n",
        "\n",
        "for epoch in range(epochs):\n",
        "    model.train()\n",
        "    epoch_loss = 0.0\n",
        "\n",
        "    # Loop over batches (each batch is a slice of 5 rows - birtdate, birthplace,deatdate, deathplace, office)\n",
        "    for name_index in range(train_num):\n",
        "        # print(\"name_index: \", name_index)\n",
        "        batch_data = train_data[name_index]\n",
        "        # print(\"batch_data shape: \", batch_data)\n",
        "        keys=[multihot(row[1], VOCAB) for row in batch_data]\n",
        "        values=[multihot(row[2], VOCAB) for row in batch_data]\n",
        "        keys=torch.tensor(keys)#.to('cuda')\n",
        "        values=torch.tensor(values)#.to('cuda')\n",
        "\n",
        "\n",
        "\n",
        "\n",
        "        for relation_index in range(len(batch_data)): #5 relations - birtdate, birthplace,deatdate, deathplace, office\n",
        "          question=keys[relation_index].clone()#.to('cuda')\n",
        "\n",
        "          # print(\"q,k,v sizes:\" ,question.size(), keys.size(), values.size())\n",
        "          output = model(question.unsqueeze(0), keys.unsqueeze(0), values.unsqueeze(0))\n",
        "          output=output.squeeze(0)\n",
        "          # print(\"output: \",output.size())\n",
        "\n",
        "          # print(\"Y: \", Y.size())\n",
        "          embedded_Y = model.B(values.clone())\n",
        "          # embedded_Y = model.B(Y_encoded)\n",
        "          # print(\"embedded_Y: \", embedded_values.size())\n",
        "\n",
        "          softmax_output = torch.inner(embedded_Y, output)\n",
        "          # print(\"softmax_output: \",softmax_output.size())\n",
        "\n",
        "          target_index=torch.tensor(relation_index)#.to('cuda')\n",
        "          # print(\"target_index: \",target_index.size())\n",
        "\n",
        "\n",
        "          # Accumulate loss\n",
        "          loss = criterion(softmax_output, target_index)\n",
        "          epoch_loss += loss.item()\n",
        "\n",
        "          # Backward pass\n",
        "          optimizer.zero_grad()\n",
        "          loss.backward()\n",
        "          optimizer.step()\n",
        "\n",
        "\n",
        "          # Predicted class as the highest prob in output\n",
        "          predicted = softmax_output.argmax(dim=0)\n",
        "\n",
        "          # if (epoch + 1) % 100 == 0 and name_index==4:  # Print loss every 100 epochs and last name just to reduce verbose print\n",
        "          #     # print(f\"Epoch [{epoch+1}/{epochs}], Loss: {loss.item():.4f}\")\n",
        "          #     print(f\"Target: \",target_index.item())\n",
        "          #     print(f\"Predicted: {predicted}\")\n",
        "\n",
        "          # print(f\"Epoch [{epoch+1}/{epochs}], Loss: {loss.item():.4f}\")\n",
        "          # print(f\"Target: \",target_index.item())\n",
        "          # print(f\"Predicted: {predicted}\")\n",
        "\n",
        "    avg_loss = epoch_loss / (5 * train_num)  # Normalize by total iterations = train_num * 5 relations (born-2, death-2, office-1)\n",
        "    train_losses.append(avg_loss)\n",
        "\n",
        "    # if (epoch + 1) % 100 == 0:  # Print loss every 50 epochs\n",
        "    print(f\"Epoch {epoch+1}/{epochs}, Loss: {avg_loss:.4f}\")\n",
        "\n",
        "# Plot loss over epochs\n",
        "plt.plot(range(1, epochs + 1), train_losses, label=\"Training Loss\")\n",
        "plt.xlabel(\"Epochs\")\n",
        "plt.ylabel(\"Loss\")\n",
        "plt.title(\"Training Loss Curve\")\n",
        "plt.legend()\n",
        "plt.show()"
      ],
      "metadata": {
        "id": "-K6rxBHFTEPO",
        "colab": {
          "base_uri": "https://localhost:8080/",
          "height": 646
        },
        "outputId": "68f4a3cf-84c2-49e9-b51d-e9e4ca0f39b2"
      },
      "execution_count": null,
      "outputs": [
        {
          "output_type": "stream",
          "name": "stdout",
          "text": [
            "Epoch 1/10, Loss: 0.9753\n",
            "Epoch 2/10, Loss: 0.7087\n",
            "Epoch 3/10, Loss: 0.6196\n",
            "Epoch 4/10, Loss: 0.5639\n",
            "Epoch 5/10, Loss: 0.4568\n",
            "Epoch 6/10, Loss: 0.3491\n",
            "Epoch 7/10, Loss: 0.2857\n",
            "Epoch 8/10, Loss: 0.2324\n",
            "Epoch 9/10, Loss: 0.1725\n",
            "Epoch 10/10, Loss: 0.1253\n"
          ]
        },
        {
          "output_type": "display_data",
          "data": {
            "text/plain": [
              "<Figure size 640x480 with 1 Axes>"
            ],
            "image/png": "[encoded data removed]"
          },
          "metadata": {}
        }
      ]
    },
    {
      "cell_type": "markdown",
      "metadata": {
        "id": "7g5uXKRAgDjD"
      },
      "source": [
        "**Write the code for testing your model on the test data**\n",
        "\n",
        "Your training loop can call the testing loop. But make sure that you do one last test on the model after training completes."
      ]
    },
    {
      "cell_type": "code",
      "source": [
        "# Testing loop goes here\n",
        "correct=0\n",
        "total=0\n",
        "\n",
        "# Loop over batches (each batch is a slice of 5 rows - birtdate, birthplace,deatdate, deathplace, office\n",
        "for name_index in range(10):\n",
        "    # print(\"name_index: \", name_index)\n",
        "    batch_data = test_data[name_index]\n",
        "    # print(\"batch_data shape: \", batch_data)\n",
        "    keys=[multihot(row[1], VOCAB) for row in batch_data]\n",
        "    values=[multihot(row[2], VOCAB) for row in batch_data]\n",
        "    keys=torch.tensor(keys)#.to('cuda')\n",
        "    values=torch.tensor(values)#.to('cuda')\n",
        "\n",
        "\n",
        "\n",
        "\n",
        "    for relation_index in range(len(batch_data)): #5 relations - birtdate, birthplace,deatdate, deathplace, office\n",
        "      question=keys[relation_index].clone()#.to('cuda')\n",
        "\n",
        "      # print(\"q,k,v sizes:\" ,question.size(), keys.size(), values.size())\n",
        "      output = model(question.unsqueeze(0), keys.unsqueeze(0), values.unsqueeze(0))\n",
        "      output=output.squeeze(0)\n",
        "      # print(\"output: \",output.size())\n",
        "\n",
        "      # print(\"Y: \", Y.size())\n",
        "      embedded_Y = model.B(values.clone())\n",
        "      # print(\"embedded_Y: \", embedded_values.size())\n",
        "\n",
        "      softmax_output = torch.inner(embedded_Y, output)\n",
        "      # print(\"softmax_output: \",softmax_output.size())\n",
        "\n",
        "      target_index=torch.tensor(relation_index)#.to('cuda')\n",
        "      # print(\"target_index: \",target_index.size())\n",
        "\n",
        "\n",
        "\n",
        "      # Predicted class as the highest prob in output\n",
        "      predicted = softmax_output.argmax(dim=0)\n",
        "\n",
        "      if target_index==predicted:\n",
        "        correct+=1\n",
        "      total+=1\n",
        "\n",
        "accuracy=correct/total\n",
        "print(f\"Accuracy: {accuracy}\")\n",
        "\n",
        "\n",
        "\n"
      ],
      "metadata": {
        "id": "ecGNHCNhTGxK",
        "colab": {
          "base_uri": "https://localhost:8080/"
        },
        "outputId": "9c0352eb-55ff-4ed2-a574-d6100d052989"
      },
      "execution_count": null,
      "outputs": [
        {
          "output_type": "stream",
          "name": "stdout",
          "text": [
            "Accuracy: 0.7878787878787878\n"
          ]
        }
      ]
    },
    {
      "cell_type": "markdown",
      "source": [
        "**Suggestion:** Once you have a model that has decent accuracy, you may want to save it to your Google Drive using ``torch.save()`` and load it when working on the next part of the assignment using ``torch.load()``."
      ],
      "metadata": {
        "id": "fSfTnmWbf0Pr"
      }
    },
    {
      "cell_type": "code",
      "source": [
        "#saving best model\n",
        "path = F\"/content/drive/My Drive/kvmemnet_model.pth\"\n",
        "torch.save(model.state_dict(), path)"
      ],
      "metadata": {
        "id": "EELNYVfIVqkP"
      },
      "execution_count": null,
      "outputs": []
    },
    {
      "cell_type": "code",
      "source": [
        "#Load the model\n",
        "path = F\"/content/drive/My Drive/kvmemnet_model.pth\"\n",
        "model_reloaded = KVMemNet(vocab_size, embed_dim)\n",
        "model_reloaded.load_state_dict(torch.load(path))\n",
        "model_reloaded.eval()\n"
      ],
      "metadata": {
        "colab": {
          "base_uri": "https://localhost:8080/"
        },
        "id": "BzxkqhNgT61x",
        "outputId": "1c5831b1-e076-4e95-d4d3-d39f4f3e8ddc"
      },
      "execution_count": null,
      "outputs": [
        {
          "output_type": "execute_result",
          "data": {
            "text/plain": [
              "KVMemNet(\n",
              "  (A): Linear(in_features=96093, out_features=100, bias=True)\n",
              "  (B): Linear(in_features=96093, out_features=100, bias=True)\n",
              "  (softmax): Softmax(dim=1)\n",
              ")"
            ]
          },
          "metadata": {},
          "execution_count": 56
        }
      ]
    },
    {
      "cell_type": "markdown",
      "metadata": {
        "id": "lRCn-LZmMNCp"
      },
      "source": [
        "# Part E: Use the Model (5 points)\n",
        "\n",
        "Given a question in natural language, turn it into a bag of words and feed it into the model with a set of plausible keys and values. Apply the output feature embedding to the full set of values and pick the value with argmax. Return the actual text inside that value (not the bag of words or embedding).\n",
        "\n",
        "That is, given a natural language question, you are asked to create the $q$ and pick a relevant subset of $k$ and $v$. Run the $q$, $k$, and $v$ through the model and get an answer to the original question.\n",
        "\n",
        "For example a question might be \"When was Alexander Hamilton born?\" Depending on how you pre-proessed your data, you may need to extract the entity and the relation.\n",
        "\n",
        "Write a function that takes in the `question` below, the data, and the model, and outputs the text answer, e.g., \"11 january 1755\". You must use your ``KVMemNet``."
      ]
    },
    {
      "cell_type": "markdown",
      "source": [
        "**Suggestion:** To process a question you will probably want to find the entity and the relation. You may use packages such as [NLTK](https://www.nltk.org/) (already imported), [SpaCY](https://spacy.io/), [Stanza](https://stanfordnlp.github.io/stanza/), or other."
      ],
      "metadata": {
        "id": "yiRYRlRhfFUG"
      }
    },
    {
      "cell_type": "markdown",
      "source": [
        "Change the question to test your implementation, but don't delete this cell."
      ],
      "metadata": {
        "id": "ofPVuNzWeIto"
      }
    },
    {
      "cell_type": "code",
      "execution_count": null,
      "metadata": {
        "id": "JQLNvGsfm3b3"
      },
      "outputs": [],
      "source": [
        "question = \"When was alexander hamilton born?\""
      ]
    },
    {
      "cell_type": "markdown",
      "source": [
        "**Create your function for using the `KVMemNet` to answer a given question.**\n",
        "\n",
        "The function should take in the question, data, model, and any other parameters you need. The function should return a text string.\n",
        "\n",
        "You can create as many cells as necessary. Save the notebook cells showing one example of your input question and output answer. For grading we will look to see that your question is in natural language, the model is used, and the answer is in text. The example doesn't have to be correct. You will analyze your technique later in the report."
      ],
      "metadata": {
        "id": "KGSewc7jeaj1"
      }
    },
    {
      "cell_type": "code",
      "source": [
        "# Create your functions here\n",
        "\n",
        "'''\n",
        "Steps:\n",
        "- Given a natural language question, I am extracting the person-name (question) and verb (relation) using POS tags of NOUN and VERB resp.\n",
        "- To create the q and pick a relevant subset of  k  and  v, I am getting the batch where question has the target name person.\n",
        "- Pick the key corresponding to the question using similarity of the relation word (verb) from natural language question amongst the relevant subset of k for the person found in above step.\n",
        "- Run the  q ,  k , and  v  through the model and get an answer to the original question using the key-value-memory network model.\n",
        "- Return the actual text inside that value (not the bag of words or embedding).\n",
        "\n",
        "'''\n",
        "\n",
        "def getanswer(question, data=DB, model=model_reloaded):\n",
        "\n",
        "\n",
        "  #1. Extract the name and relation from question\n",
        "  import nltk\n",
        "  nltk.download('punkt_tab')\n",
        "  nltk.download('averaged_perceptron_tagger_eng')\n",
        "  nltk.download('maxent_ne_chunker_tab')\n",
        "  nltk.download('punkt')\n",
        "  nltk.download('maxent_ne_chunker')\n",
        "  nltk.download('words')\n",
        "  from nltk import word_tokenize, pos_tag, ne_chunk\n",
        "\n",
        "  words = word_tokenize(question)\n",
        "  # print(words)\n",
        "  tagged_words = pos_tag(words)\n",
        "  # print(tagged_words)\n",
        "  named_entities = ne_chunk(tagged_words)\n",
        "  # print(named_entities)\n",
        "\n",
        "  names = [word for word, tag in tagged_words if tag == 'NN']\n",
        "  names=names[-1]\n",
        "  relation = [word for word, tag in tagged_words if tag == 'VBN']\n",
        "  relation=relation[-1]\n",
        "  # print(\"Extracted Names,relation:\", names,relation)\n",
        "\n",
        "\n",
        "\n",
        "\n",
        "\n",
        "\n",
        "\n",
        "\n",
        "\n",
        "\n",
        "  #2. Get the batch where question has the target name person\n",
        "  target_name= names #'alexander hamilton'\n",
        "\n",
        "  target_d=[]\n",
        "  for name, content in DB.items():\n",
        "    # print(name,\"-\",content)\n",
        "    if target_name in name:\n",
        "      person=[]\n",
        "      for key, value in content.items():\n",
        "        if \"birth\" in key or \"death\" in key or \"office\" in key:\n",
        "          # print(name, \"-\" , key, \"-\" , value)\n",
        "          tmp = [name, \"{} {}\".format(name, key), \"{} {}\".format(name, value)]\n",
        "          person.append(tmp)\n",
        "      target_d.append(person)\n",
        "\n",
        "  # print(target_d)\n",
        "\n",
        "\n",
        "\n",
        "\n",
        "\n",
        "\n",
        "  #3. Get the key to query\n",
        "  import spacy\n",
        "  nlp = spacy.load(\"en_core_web_sm\")\n",
        "\n",
        "  verb = [relation]\n",
        "  list_keys = [row[1] for row in target_d[0]]\n",
        "\n",
        "  most_similar_words = {}\n",
        "\n",
        "  for word1 in verb:\n",
        "      max_similarity = -1\n",
        "      most_similar_word = None\n",
        "      word1_vec = nlp(word1)\n",
        "\n",
        "      for word2 in list_keys:\n",
        "          word2_vec = nlp(word2)\n",
        "          similarity = word1_vec.similarity(word2_vec)\n",
        "\n",
        "          if similarity > max_similarity:\n",
        "              max_similarity = similarity\n",
        "              most_similar_word = word2\n",
        "\n",
        "      most_similar_words[word1] = most_similar_word\n",
        "\n",
        "  for word, similar in most_similar_words.items():\n",
        "      # print(f\"Most similar phrase to '{word}' is '{similar}'\")\n",
        "      target_relation =similar #'alexander hamilton birth_date'\n",
        "\n",
        "\n",
        "\n",
        "  #4. Get corresponding value to the target_relation and name\n",
        "  batch_data = target_d[0]\n",
        "  # print(\"batch_data shape: \", batch_data)\n",
        "  keys=[multihot(row[1], VOCAB) for row in batch_data]\n",
        "  values=[multihot(row[2], VOCAB) for row in batch_data]\n",
        "  keys=torch.tensor(keys)#.to('cuda')\n",
        "  values=torch.tensor(values)#.to('cuda')\n",
        "\n",
        "\n",
        "\n",
        "\n",
        "  question=target_relation#.to('cuda')\n",
        "  question=[multihot(question, VOCAB)]\n",
        "  question=torch.tensor(question)#.to('cuda')\n",
        "\n",
        "  # print(\"q,k,v sizes:\" ,question.size(), keys.size(), values.size())\n",
        "  output = model_reloaded(question, keys.unsqueeze(0), values.unsqueeze(0))\n",
        "  output=output.squeeze(0)\n",
        "  # print(\"output: \",output.size())\n",
        "\n",
        "  # print(\"Y: \", Y.size())\n",
        "  embedded_Y = model.B(values.clone())\n",
        "  # print(\"embedded_Y: \", embedded_values.size())\n",
        "\n",
        "  softmax_output = torch.inner(embedded_Y, output)\n",
        "  # print(\"softmax_output: \",softmax_output.size())\n",
        "\n",
        "\n",
        "  # Predicted class as the highest prob in output\n",
        "  predicted = softmax_output.argmax(dim=0)\n",
        "\n",
        "  predicted_text = batch_data[predicted][2]\n",
        "\n",
        "  # print(f\"Predicted: {predicted}\")\n",
        "  # print(f\"Predicted Text: {predicted_text}\")\n",
        "  return predicted_text"
      ],
      "metadata": {
        "id": "sN0ZNtADTzDd"
      },
      "execution_count": 20,
      "outputs": []
    },
    {
      "cell_type": "code",
      "source": [
        "DB['alexander hamilton']"
      ],
      "metadata": {
        "colab": {
          "base_uri": "https://localhost:8080/"
        },
        "id": "XDxvPMTnpL9m",
        "outputId": "ce4e0a1a-51f0-4157-a99d-52f824b5920f"
      },
      "execution_count": 56,
      "outputs": [
        {
          "output_type": "execute_result",
          "data": {
            "text/plain": [
              "{'name': 'alexander hamilton',\n",
              " 'office': '1st united states secretary of the treasury senior officer of the army delegate to the congress of the confederation from new york',\n",
              " 'president': 'george washington john adams',\n",
              " 'term_start': 'september 11 1789 december 14 1799 november 3 1788 november 4 1782',\n",
              " 'term_end': 'january 31 1795 june 15 1800 march 2 1789 june 21 1783',\n",
              " 'predecessor': 'position established george washington egbert benson seat established',\n",
              " 'successor': 'oliver wolcott jr james wilkinson seat abolished seat abolished',\n",
              " 'birth_date': '11 january 1755',\n",
              " 'birth_place': 'charlestown nevis british west indies',\n",
              " 'death_date': 'july 12 1804 aged 47 or 49',\n",
              " 'death_place': 'new york city new york u',\n",
              " 'party': 'federalist',\n",
              " 'spouse': 'elizabeth schuyler',\n",
              " 'children': 'philip angelica alexander james alexander john church william stephen eliza holly phil',\n",
              " 'alma_mater': 'kings college new york',\n",
              " 'religion': 'presbyterian episcopalian convert',\n",
              " 'signature': 'alexander hamilton signaturert',\n",
              " 'allegiance': 'flag_of_new_york _ 1778 svg 23px new york 1775 1777 united states 1795 23px 1777 1800',\n",
              " 'branch': 'flag_of_new_york _ 1778 svg 23px new york company of artillery united states 1777 23px continental army 25px united states army',\n",
              " 'serviceyears': '1775 1776 militia 1776 1781 1798 1800',\n",
              " 'rank': '23px',\n",
              " 'article_title': 'alexander hamilton'}"
            ]
          },
          "metadata": {},
          "execution_count": 56
        }
      ]
    },
    {
      "cell_type": "code",
      "source": [
        "DB['alexander hamilton mcdonald']"
      ],
      "metadata": {
        "colab": {
          "base_uri": "https://localhost:8080/"
        },
        "id": "eoB8YZcPQbyS",
        "outputId": "9503e430-3055-45bf-ff50-48475bd08d65"
      },
      "execution_count": 57,
      "outputs": [
        {
          "output_type": "execute_result",
          "data": {
            "text/plain": [
              "{'name': 'alexander hamilton mcdonald',\n",
              " 'office': 'senator from saskatchewan moosomin leader of the opposition saskatchewan mla for moosomin',\n",
              " 'term_start': '1965 1955 1952',\n",
              " 'term_end': '1980 1960 1965',\n",
              " 'predecessor': 'asmundur a loptson arthur thomas procter',\n",
              " 'successor': 'ross thatcher frank gardner',\n",
              " 'birth_date': 'march 16 1919',\n",
              " 'birth_place': 'fleming saskatchewan',\n",
              " 'death_date': 'march 31 1980',\n",
              " 'death_place': 'ottawa',\n",
              " 'party': 'saskatchewan liberal party',\n",
              " 'otherparty': 'liberal party of canada',\n",
              " 'spouse': 'madeleine anne casey',\n",
              " 'religion': 'united church of canada',\n",
              " 'article_title': 'alexander hamilton mcdonald'}"
            ]
          },
          "metadata": {},
          "execution_count": 57
        }
      ]
    },
    {
      "cell_type": "code",
      "source": [
        "question = \"When was alexander hamilton born?\"\n",
        "predicted_ans=getanswer(question)\n",
        "print(\"Question: \", question)\n",
        "print(\"Answer predicted: \", predicted_ans)"
      ],
      "metadata": {
        "colab": {
          "base_uri": "https://localhost:8080/"
        },
        "id": "L7MYLNtkWBKq",
        "outputId": "98523c13-5102-4df9-de12-a6091cdcc020"
      },
      "execution_count": null,
      "outputs": [
        {
          "output_type": "stream",
          "name": "stderr",
          "text": [
            "[nltk_data] Downloading package punkt_tab to /root/nltk_data...\n",
            "[nltk_data]   Package punkt_tab is already up-to-date!\n",
            "[nltk_data] Downloading package averaged_perceptron_tagger_eng to\n",
            "[nltk_data]     /root/nltk_data...\n",
            "[nltk_data]   Package averaged_perceptron_tagger_eng is already up-to-\n",
            "[nltk_data]       date!\n",
            "[nltk_data] Downloading package maxent_ne_chunker_tab to\n",
            "[nltk_data]     /root/nltk_data...\n",
            "[nltk_data]   Package maxent_ne_chunker_tab is already up-to-date!\n",
            "[nltk_data] Downloading package punkt to /root/nltk_data...\n",
            "[nltk_data]   Package punkt is already up-to-date!\n",
            "[nltk_data] Downloading package maxent_ne_chunker to\n",
            "[nltk_data]     /root/nltk_data...\n",
            "[nltk_data]   Package maxent_ne_chunker is already up-to-date!\n",
            "[nltk_data] Downloading package words to /root/nltk_data...\n",
            "[nltk_data]   Package words is already up-to-date!\n"
          ]
        },
        {
          "output_type": "stream",
          "name": "stdout",
          "text": [
            "Question:  When was alexander hamilton born?\n",
            "Answer predicted:  alexander hamilton mcdonald march 16 1919\n"
          ]
        }
      ]
    },
    {
      "cell_type": "code",
      "source": [
        "question = \"When was alexander hamilton dead?\"\n",
        "predicted_ans=getanswer(question)\n",
        "print(\"Question: \", question)\n",
        "print(\"Answer predicted: \", predicted_ans)\n",
        "\n",
        "'''\n",
        "Analysis:\n",
        "I used spaCy to identify the most relevant key (relation) among the five predefined relations based on semantic similarity to the relation word in the natural language question. But the model incorrectly mapped the word 'dead' to 'birth date' instead of 'death date', due to the similarity limitations—resulting in the answer being incorrectly linked to the birth date rather than the intended death-date related information.\n",
        "\n",
        "Another limitation of my approach is that it doesn't account for question words like 'What', 'When', or 'Who', which provide important context for interpreting the relation. So when the question contains 'When', it should ideally guide the model toward time-related keys like birth date or death date. However, since my current method only matches based on the verb—like 'dead'—and not the full intent of the question, it may incorrectly map 'When' to place-related keys (e.g., birth-place or death-place) instead of date-related ones, leading to inaccurate answer selection from the available relations: birth-place, birth-date, death-place, death-date, and office.\n",
        "\n",
        "Another limitation of my approach is in identifying the correct person from the DB. For example, if the question is about 'alexander hamilton', but the database contains an entry for 'alexander hamilton mcdonald', the system might incorrectly match the longer name simply because it contains the queried noun. Since my current logic extracts the person name from the natural language input and looks for a match in the database based on noun phrases, it can lead to partial or fuzzy matches that aren't contextually accurate and thus resulting in the answer being returned for the wrong person.\n",
        "'''"
      ],
      "metadata": {
        "colab": {
          "base_uri": "https://localhost:8080/"
        },
        "id": "C0yZfgA8Nc6D",
        "outputId": "ddbc58cb-49bc-442d-b536-ae0f38ca3008"
      },
      "execution_count": null,
      "outputs": [
        {
          "output_type": "stream",
          "name": "stderr",
          "text": [
            "[nltk_data] Downloading package punkt_tab to /root/nltk_data...\n",
            "[nltk_data]   Package punkt_tab is already up-to-date!\n",
            "[nltk_data] Downloading package averaged_perceptron_tagger_eng to\n",
            "[nltk_data]     /root/nltk_data...\n",
            "[nltk_data]   Package averaged_perceptron_tagger_eng is already up-to-\n",
            "[nltk_data]       date!\n",
            "[nltk_data] Downloading package maxent_ne_chunker_tab to\n",
            "[nltk_data]     /root/nltk_data...\n",
            "[nltk_data]   Package maxent_ne_chunker_tab is already up-to-date!\n",
            "[nltk_data] Downloading package punkt to /root/nltk_data...\n",
            "[nltk_data]   Package punkt is already up-to-date!\n",
            "[nltk_data] Downloading package maxent_ne_chunker to\n",
            "[nltk_data]     /root/nltk_data...\n",
            "[nltk_data]   Package maxent_ne_chunker is already up-to-date!\n",
            "[nltk_data] Downloading package words to /root/nltk_data...\n",
            "[nltk_data]   Package words is already up-to-date!\n"
          ]
        },
        {
          "output_type": "stream",
          "name": "stdout",
          "text": [
            "Extracted Names,relation: hamilton dead\n"
          ]
        },
        {
          "output_type": "stream",
          "name": "stderr",
          "text": [
            "<ipython-input-40-5433484bfb4f>:88: UserWarning: [W007] The model you're using has no word vectors loaded, so the result of the Doc.similarity method will be based on the tagger, parser and NER, which may not give useful similarity judgements. This may happen if you're using one of the small models, e.g. `en_core_web_sm`, which don't ship with word vectors and only use context-sensitive tensors. You can always add your own word vectors, or use one of the larger models instead if available.\n",
            "  similarity = word1_vec.similarity(word2_vec)\n",
            "<ipython-input-40-5433484bfb4f>:107: UserWarning: Creating a tensor from a list of numpy.ndarrays is extremely slow. Please consider converting the list to a single numpy.ndarray with numpy.array() before converting to a tensor. (Triggered internally at /pytorch/torch/csrc/utils/tensor_new.cpp:254.)\n",
            "  keys=torch.tensor(keys)#.to('cuda')\n"
          ]
        },
        {
          "output_type": "stream",
          "name": "stdout",
          "text": [
            "Question:  When was alexander hamilton dead?\n",
            "Answer predicted:  alexander hamilton mcdonald march 16 1919\n"
          ]
        }
      ]
    },
    {
      "cell_type": "code",
      "source": [
        "question = \"What was alexander hamilton office?\"\n",
        "predicted_ans=getanswer(question)\n",
        "print(\"Question: \", question)\n",
        "print(\"Answer predicted: \", predicted_ans)\n",
        "\n",
        "'''\n",
        "Analysis:\n",
        "Although here also wrong person identified based on POS noun 'alexander' available in the DB, but the context of 'office' was able to be mapped to the key properly and thus the relevant value retrieved as answer.\n",
        "'''"
      ],
      "metadata": {
        "colab": {
          "base_uri": "https://localhost:8080/"
        },
        "id": "Uzod2ZpuWeZI",
        "outputId": "74dc4a5b-c07c-444d-f919-f5fefb59db58"
      },
      "execution_count": 54,
      "outputs": [
        {
          "output_type": "stream",
          "name": "stderr",
          "text": [
            "[nltk_data] Downloading package punkt_tab to /root/nltk_data...\n",
            "[nltk_data]   Package punkt_tab is already up-to-date!\n",
            "[nltk_data] Downloading package averaged_perceptron_tagger_eng to\n",
            "[nltk_data]     /root/nltk_data...\n",
            "[nltk_data]   Package averaged_perceptron_tagger_eng is already up-to-\n",
            "[nltk_data]       date!\n",
            "[nltk_data] Downloading package maxent_ne_chunker_tab to\n",
            "[nltk_data]     /root/nltk_data...\n",
            "[nltk_data]   Package maxent_ne_chunker_tab is already up-to-date!\n",
            "[nltk_data] Downloading package punkt to /root/nltk_data...\n",
            "[nltk_data]   Package punkt is already up-to-date!\n",
            "[nltk_data] Downloading package maxent_ne_chunker to\n",
            "[nltk_data]     /root/nltk_data...\n",
            "[nltk_data]   Package maxent_ne_chunker is already up-to-date!\n",
            "[nltk_data] Downloading package words to /root/nltk_data...\n",
            "[nltk_data]   Package words is already up-to-date!\n",
            "<ipython-input-53-55ea5dd60b1e>:88: UserWarning: [W007] The model you're using has no word vectors loaded, so the result of the Doc.similarity method will be based on the tagger, parser and NER, which may not give useful similarity judgements. This may happen if you're using one of the small models, e.g. `en_core_web_sm`, which don't ship with word vectors and only use context-sensitive tensors. You can always add your own word vectors, or use one of the larger models instead if available.\n",
            "  similarity = word1_vec.similarity(word2_vec)\n"
          ]
        },
        {
          "output_type": "stream",
          "name": "stdout",
          "text": [
            "Question:  What was alexander hamilton office?\n",
            "Answer predicted:  alexander hamilton mcdonald senator from saskatchewan moosomin leader of the opposition saskatchewan mla for moosomin\n"
          ]
        }
      ]
    },
    {
      "cell_type": "code",
      "source": [
        "DB['maurice delory']"
      ],
      "metadata": {
        "colab": {
          "base_uri": "https://localhost:8080/"
        },
        "id": "Wvm0eQyBVHXG",
        "outputId": "9ce274fb-3b89-4edd-bf07-29ce5c594a01"
      },
      "execution_count": 45,
      "outputs": [
        {
          "output_type": "execute_result",
          "data": {
            "text/plain": [
              "{'name': 'maurice delory',\n",
              " 'birth_date': '5 october 1927',\n",
              " 'birth_place': 'georgetown prince edward island',\n",
              " 'office': 'mla for lunenburg west',\n",
              " 'term_start': '1970',\n",
              " 'term_end': '1978',\n",
              " 'predecessor': 'harley j spence',\n",
              " 'successor': 'mel pickings',\n",
              " 'party': 'liberal',\n",
              " 'religion': 'roman catholic',\n",
              " 'occupation': 'lawyer',\n",
              " 'article_title': 'maurice delory'}"
            ]
          },
          "metadata": {},
          "execution_count": 45
        }
      ]
    },
    {
      "cell_type": "code",
      "source": [
        "question = \"When was maurice delory born?\"\n",
        "predicted_ans=getanswer(question)\n",
        "print(\"Question: \", question)\n",
        "print(\"Answer predicted: \", predicted_ans)\n",
        "\n",
        "'''\n",
        "Analysis:\n",
        "'maurice delory' was not recognized as a noun/ proper noun hence my function could not pick it as the person and thus no person data was able to be picked from the DB. Will need more exhaustive way of picking the person in context from the natural language question.\n",
        "'''"
      ],
      "metadata": {
        "colab": {
          "base_uri": "https://localhost:8080/",
          "height": 627
        },
        "id": "6I3gjBJrVU5Q",
        "outputId": "1aa87776-81e6-4c03-bb61-1d675dbe53ed"
      },
      "execution_count": 49,
      "outputs": [
        {
          "output_type": "stream",
          "name": "stderr",
          "text": [
            "[nltk_data] Downloading package punkt_tab to /root/nltk_data...\n",
            "[nltk_data]   Package punkt_tab is already up-to-date!\n",
            "[nltk_data] Downloading package averaged_perceptron_tagger_eng to\n",
            "[nltk_data]     /root/nltk_data...\n",
            "[nltk_data]   Package averaged_perceptron_tagger_eng is already up-to-\n",
            "[nltk_data]       date!\n",
            "[nltk_data] Downloading package maxent_ne_chunker_tab to\n",
            "[nltk_data]     /root/nltk_data...\n",
            "[nltk_data]   Package maxent_ne_chunker_tab is already up-to-date!\n",
            "[nltk_data] Downloading package punkt to /root/nltk_data...\n",
            "[nltk_data]   Package punkt is already up-to-date!\n",
            "[nltk_data] Downloading package maxent_ne_chunker to\n",
            "[nltk_data]     /root/nltk_data...\n",
            "[nltk_data]   Package maxent_ne_chunker is already up-to-date!\n",
            "[nltk_data] Downloading package words to /root/nltk_data...\n",
            "[nltk_data]   Package words is already up-to-date!\n"
          ]
        },
        {
          "output_type": "stream",
          "name": "stdout",
          "text": [
            "[('When', 'WRB'), ('was', 'VBD'), ('maurice', 'RB'), ('delory', 'JJ'), ('born', 'VBN'), ('?', '.')]\n"
          ]
        },
        {
          "output_type": "error",
          "ename": "IndexError",
          "evalue": "list index out of range",
          "traceback": [
            "\u001b[0;31m---------------------------------------------------------------------------\u001b[0m",
            "\u001b[0;31mIndexError\u001b[0m                                Traceback (most recent call last)",
            "\u001b[0;32m<ipython-input-49-3872b531d2ab>\u001b[0m in \u001b[0;36m<cell line: 0>\u001b[0;34m()\u001b[0m\n\u001b[1;32m      1\u001b[0m \u001b[0mquestion\u001b[0m \u001b[0;34m=\u001b[0m \u001b[0;34m\"When was maurice delory born?\"\u001b[0m\u001b[0;34m\u001b[0m\u001b[0;34m\u001b[0m\u001b[0m\n\u001b[0;32m----> 2\u001b[0;31m \u001b[0mpredicted_ans\u001b[0m\u001b[0;34m=\u001b[0m\u001b[0mgetanswer\u001b[0m\u001b[0;34m(\u001b[0m\u001b[0mquestion\u001b[0m\u001b[0;34m)\u001b[0m\u001b[0;34m\u001b[0m\u001b[0;34m\u001b[0m\u001b[0m\n\u001b[0m\u001b[1;32m      3\u001b[0m \u001b[0mprint\u001b[0m\u001b[0;34m(\u001b[0m\u001b[0;34m\"Question: \"\u001b[0m\u001b[0;34m,\u001b[0m \u001b[0mquestion\u001b[0m\u001b[0;34m)\u001b[0m\u001b[0;34m\u001b[0m\u001b[0;34m\u001b[0m\u001b[0m\n\u001b[1;32m      4\u001b[0m \u001b[0mprint\u001b[0m\u001b[0;34m(\u001b[0m\u001b[0;34m\"Answer predicted: \"\u001b[0m\u001b[0;34m,\u001b[0m \u001b[0mpredicted_ans\u001b[0m\u001b[0;34m)\u001b[0m\u001b[0;34m\u001b[0m\u001b[0;34m\u001b[0m\u001b[0m\n\u001b[1;32m      5\u001b[0m \u001b[0;34m\u001b[0m\u001b[0m\n",
            "\u001b[0;32m<ipython-input-47-f770adb75fa6>\u001b[0m in \u001b[0;36mgetanswer\u001b[0;34m(question, data, model)\u001b[0m\n\u001b[1;32m     34\u001b[0m \u001b[0;34m\u001b[0m\u001b[0m\n\u001b[1;32m     35\u001b[0m   \u001b[0mnames\u001b[0m \u001b[0;34m=\u001b[0m \u001b[0;34m[\u001b[0m\u001b[0mword\u001b[0m \u001b[0;32mfor\u001b[0m \u001b[0mword\u001b[0m\u001b[0;34m,\u001b[0m \u001b[0mtag\u001b[0m \u001b[0;32min\u001b[0m \u001b[0mtagged_words\u001b[0m \u001b[0;32mif\u001b[0m \u001b[0mtag\u001b[0m \u001b[0;34m==\u001b[0m \u001b[0;34m'NN'\u001b[0m\u001b[0;34m]\u001b[0m\u001b[0;34m\u001b[0m\u001b[0;34m\u001b[0m\u001b[0m\n\u001b[0;32m---> 36\u001b[0;31m   \u001b[0mnames\u001b[0m\u001b[0;34m=\u001b[0m\u001b[0mnames\u001b[0m\u001b[0;34m[\u001b[0m\u001b[0;34m-\u001b[0m\u001b[0;36m1\u001b[0m\u001b[0;34m]\u001b[0m\u001b[0;34m\u001b[0m\u001b[0;34m\u001b[0m\u001b[0m\n\u001b[0m\u001b[1;32m     37\u001b[0m   \u001b[0mrelation\u001b[0m \u001b[0;34m=\u001b[0m \u001b[0;34m[\u001b[0m\u001b[0mword\u001b[0m \u001b[0;32mfor\u001b[0m \u001b[0mword\u001b[0m\u001b[0;34m,\u001b[0m \u001b[0mtag\u001b[0m \u001b[0;32min\u001b[0m \u001b[0mtagged_words\u001b[0m \u001b[0;32mif\u001b[0m \u001b[0mtag\u001b[0m \u001b[0;34m==\u001b[0m \u001b[0;34m'VBN'\u001b[0m\u001b[0;34m]\u001b[0m\u001b[0;34m\u001b[0m\u001b[0;34m\u001b[0m\u001b[0m\n\u001b[1;32m     38\u001b[0m   \u001b[0mrelation\u001b[0m\u001b[0;34m=\u001b[0m\u001b[0mrelation\u001b[0m\u001b[0;34m[\u001b[0m\u001b[0;34m-\u001b[0m\u001b[0;36m1\u001b[0m\u001b[0;34m]\u001b[0m\u001b[0;34m\u001b[0m\u001b[0;34m\u001b[0m\u001b[0m\n",
            "\u001b[0;31mIndexError\u001b[0m: list index out of range"
          ]
        }
      ]
    },
    {
      "cell_type": "markdown",
      "source": [
        "# Part F: Reporting (15 points)\n",
        "\n",
        "Your report should answer the following three questions:\n",
        "\n",
        " **Q1:** What pre-processing of the data did you do? What motivated the design decisions and how did it impact training and any processing of natural language questions (Parts A and D)?\n",
        "\n",
        " Hint: This should help one understand any code modifications you made in Parts A and the first part of Part D. But you shouldn't use this to document your code (hopefully you commented your code with code comments and text cells above), but to justify your choices as well as to explain what worked and what didn't work.\n",
        "\n",
        " **Q2:** Report on your training on the real data (Part D). Show your loss curve and report on the testing accuracy. There are many ways to implement the training loop, particularly with the choice of keys and values. What decisions did you make when developing your training loop? Justify your decisions. How did they impact the training?\n",
        "\n",
        " Hint: This assignment doesn't grade you on how well your model learns---your solution will not be perfect. We focus more on how you worked through the process. This part of the report should show how well your solution worked, but also the intuition for why it works, and to document the things you tried that didn't work.\n",
        "\n",
        " **Q3:** Describe your technique on how you process natural language questions (Part E). Provide some examples of your technique answering questions correctly and some examples of your technique answering questions incorrectly. Discuss what causes the failure cases.\n",
        "\n",
        " Hint: You are not penalized for incorrectly answered questions---your model will not be perfect---we are looking for honest reflection. Preferably, show the example as code blocks running your model with notebook outputs saved.\n",
        "\n",
        " We have provided three prompts below. You can create as many text and code cells as necessary."
      ],
      "metadata": {
        "id": "N27-OtrzpT-u"
      }
    },
    {
      "cell_type": "markdown",
      "source": [
        "**Q1: Report on Data Pre-processing**"
      ],
      "metadata": {
        "id": "V8dovCuyuEvL"
      }
    },
    {
      "cell_type": "markdown",
      "source": [
        "- For the pre-processing of data I went ahead with the naive approach demonstrated in the recitation, to treat a question as the name of a person and a relation, for example: \"Alexander Hamilton birth date\". The question as extracted from natural language may contain information about the person and some words that are representative of the relation even if the exact relation words aren't used as per the q,k,v set.\n",
        "\n",
        "- For each person, I extracted only a subset of relation types: birth date, birth place, death date, death place, and office to work with the limited computation with CPU allowed in my Colab subscription. Each training row corresponds to a specific person, and within that, each row represents a particular relation associated with that person. The key design decision was in how I structured the (q, k, v) triplets-\n",
        "  - q = name of the person\n",
        "  - k = key representation (name + relation type like \"Alexander Hamilton birth date\")\n",
        "  - v = the corresponding value (name + relation type like \"Alexander Hamilton 11 january 1755\")\n",
        "\n",
        "  This training set orchestration ensured that training was focused within a person specific BOW context, rather than performing a search across the entire knowledge base. This choice was motivated by the need to reduce the search space, improve training efficiency, and make it computationally feasible. I am working with CPU hence just trained with 100 person records to further use computation in an optimised way but not to an extent that overfitting occurs.\n",
        "\n",
        "- For setting Y during training here in case of the original training DB, unlike the synthetic data, The recitation showed we are attempting to figure out in the person specific BOW only rather than all the values in the database (which helped with computation limitations to use only CPU). In case GPU was available, I could have overcome this by trying to fetch the answer/ value from a more general pool of values/ BOW. I could have also trained with more number of training person (>100 person trainset only) to provide more context to the model.\n",
        "\n",
        "- For the KVMemNet model creation I had set a larger embedding size than synthetic data because the vocab size is huge here, so while squeezing all info from vocab_size to the embedding_size less info loss would be faced and the output weights would have better context of the person and relation.\n"
      ],
      "metadata": {
        "id": "2qhr3QwvuLBQ"
      }
    },
    {
      "cell_type": "markdown",
      "source": [
        "**Q2: Report on Training and Testing**"
      ],
      "metadata": {
        "id": "3VBW1vSduN4U"
      }
    },
    {
      "cell_type": "markdown",
      "source": [
        "Your text here."
      ],
      "metadata": {
        "id": "PT_9MtT2uQ7I"
      }
    },
    {
      "cell_type": "markdown",
      "source": [
        "**Q3: Report on Model Use**"
      ],
      "metadata": {
        "id": "d6YimJ0KuScb"
      }
    },
    {
      "cell_type": "markdown",
      "source": [
        "Your text here."
      ],
      "metadata": {
        "id": "j1majVIPuVEP"
      }
    }
  ],
  "metadata": {
    "colab": {
      "provenance": [],
      "collapsed_sections": [
        "XLQP14bxNXDx",
        "Sl6J8BwVpHCw",
        "p8pshjz9hRps",
        "G6R_xIi_TZVp"
      ],
      "include_colab_link": true
    },
    "kernelspec": {
      "display_name": "Python 3",
      "name": "python3"
    },
    "language_info": {
      "name": "python"
    }
  },
  "nbformat": 4,
  "nbformat_minor": 0
}